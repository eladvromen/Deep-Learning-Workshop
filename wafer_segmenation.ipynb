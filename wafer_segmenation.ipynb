{
  "cells": [
    {
      "cell_type": "markdown",
      "metadata": {
        "id": "view-in-github",
        "colab_type": "text"
      },
      "source": [
        "<a href=\"https://colab.research.google.com/github/eladvromen/Deep-Learning-Workshop/blob/main/wafer_segmenation.ipynb\" target=\"_parent\"><img src=\"https://colab.research.google.com/assets/colab-badge.svg\" alt=\"Open In Colab\"/></a>"
      ]
    },
    {
      "cell_type": "code",
      "execution_count": null,
      "metadata": {
        "id": "BlHba894GNC7"
      },
      "outputs": [],
      "source": [
        "import pandas as pd\n",
        "import numpy as np\n",
        "import seaborn as sns\n",
        "import matplotlib.pyplot as plt\n",
        "import pickle"
      ]
    },
    {
      "cell_type": "code",
      "execution_count": null,
      "metadata": {
        "id": "7kVNk1SgHVWG",
        "colab": {
          "base_uri": "https://localhost:8080/"
        },
        "outputId": "b632bfd9-7666-44f6-b358-69dd26e56d09"
      },
      "outputs": [
        {
          "output_type": "stream",
          "name": "stdout",
          "text": [
            "Mounted at /content/drive\n"
          ]
        }
      ],
      "source": [
        "from google.colab import drive\n",
        "drive.mount('/content/drive')\n"
      ]
    },
    {
      "cell_type": "code",
      "execution_count": null,
      "metadata": {
        "id": "40hwfukRGRok"
      },
      "outputs": [],
      "source": [
        "data = pd.read_csv(\"/content/drive/MyDrive/NI_assigment/data/df_wafers.csv\")\n",
        "test = pd.read_csv(\"/content/drive/MyDrive/NI_assigment/data/df_wafers_test.csv\")"
      ]
    },
    {
      "cell_type": "markdown",
      "metadata": {
        "id": "2xII4Yn4hr-N"
      },
      "source": [
        "##LDA"
      ]
    },
    {
      "cell_type": "code",
      "execution_count": null,
      "metadata": {
        "colab": {
          "base_uri": "https://localhost:8080/",
          "height": 206
        },
        "id": "-qAANv8hH8kN",
        "outputId": "fb2ec18d-dc53-4d01-cd37-fa7a3e99c3d5"
      },
      "outputs": [
        {
          "output_type": "execute_result",
          "data": {
            "text/plain": [
              "  WaferName  DieX  DieY  IsGoodDie  IsScratchDie\n",
              "0    3b2e28     0    12      False         False\n",
              "1    3b2e28     0    13       True         False\n",
              "2    3b2e28     0    14      False         False\n",
              "3    3b2e28     0    15       True         False\n",
              "4    3b2e28     0    16       True         False"
            ],
            "text/html": [
              "\n",
              "  <div id=\"df-94b2fad5-2556-4382-933e-839c83975678\">\n",
              "    <div class=\"colab-df-container\">\n",
              "      <div>\n",
              "<style scoped>\n",
              "    .dataframe tbody tr th:only-of-type {\n",
              "        vertical-align: middle;\n",
              "    }\n",
              "\n",
              "    .dataframe tbody tr th {\n",
              "        vertical-align: top;\n",
              "    }\n",
              "\n",
              "    .dataframe thead th {\n",
              "        text-align: right;\n",
              "    }\n",
              "</style>\n",
              "<table border=\"1\" class=\"dataframe\">\n",
              "  <thead>\n",
              "    <tr style=\"text-align: right;\">\n",
              "      <th></th>\n",
              "      <th>WaferName</th>\n",
              "      <th>DieX</th>\n",
              "      <th>DieY</th>\n",
              "      <th>IsGoodDie</th>\n",
              "      <th>IsScratchDie</th>\n",
              "    </tr>\n",
              "  </thead>\n",
              "  <tbody>\n",
              "    <tr>\n",
              "      <th>0</th>\n",
              "      <td>3b2e28</td>\n",
              "      <td>0</td>\n",
              "      <td>12</td>\n",
              "      <td>False</td>\n",
              "      <td>False</td>\n",
              "    </tr>\n",
              "    <tr>\n",
              "      <th>1</th>\n",
              "      <td>3b2e28</td>\n",
              "      <td>0</td>\n",
              "      <td>13</td>\n",
              "      <td>True</td>\n",
              "      <td>False</td>\n",
              "    </tr>\n",
              "    <tr>\n",
              "      <th>2</th>\n",
              "      <td>3b2e28</td>\n",
              "      <td>0</td>\n",
              "      <td>14</td>\n",
              "      <td>False</td>\n",
              "      <td>False</td>\n",
              "    </tr>\n",
              "    <tr>\n",
              "      <th>3</th>\n",
              "      <td>3b2e28</td>\n",
              "      <td>0</td>\n",
              "      <td>15</td>\n",
              "      <td>True</td>\n",
              "      <td>False</td>\n",
              "    </tr>\n",
              "    <tr>\n",
              "      <th>4</th>\n",
              "      <td>3b2e28</td>\n",
              "      <td>0</td>\n",
              "      <td>16</td>\n",
              "      <td>True</td>\n",
              "      <td>False</td>\n",
              "    </tr>\n",
              "  </tbody>\n",
              "</table>\n",
              "</div>\n",
              "      <button class=\"colab-df-convert\" onclick=\"convertToInteractive('df-94b2fad5-2556-4382-933e-839c83975678')\"\n",
              "              title=\"Convert this dataframe to an interactive table.\"\n",
              "              style=\"display:none;\">\n",
              "        \n",
              "  <svg xmlns=\"http://www.w3.org/2000/svg\" height=\"24px\"viewBox=\"0 0 24 24\"\n",
              "       width=\"24px\">\n",
              "    <path d=\"M0 0h24v24H0V0z\" fill=\"none\"/>\n",
              "    <path d=\"M18.56 5.44l.94 2.06.94-2.06 2.06-.94-2.06-.94-.94-2.06-.94 2.06-2.06.94zm-11 1L8.5 8.5l.94-2.06 2.06-.94-2.06-.94L8.5 2.5l-.94 2.06-2.06.94zm10 10l.94 2.06.94-2.06 2.06-.94-2.06-.94-.94-2.06-.94 2.06-2.06.94z\"/><path d=\"M17.41 7.96l-1.37-1.37c-.4-.4-.92-.59-1.43-.59-.52 0-1.04.2-1.43.59L10.3 9.45l-7.72 7.72c-.78.78-.78 2.05 0 2.83L4 21.41c.39.39.9.59 1.41.59.51 0 1.02-.2 1.41-.59l7.78-7.78 2.81-2.81c.8-.78.8-2.07 0-2.86zM5.41 20L4 18.59l7.72-7.72 1.47 1.35L5.41 20z\"/>\n",
              "  </svg>\n",
              "      </button>\n",
              "      \n",
              "  <style>\n",
              "    .colab-df-container {\n",
              "      display:flex;\n",
              "      flex-wrap:wrap;\n",
              "      gap: 12px;\n",
              "    }\n",
              "\n",
              "    .colab-df-convert {\n",
              "      background-color: #E8F0FE;\n",
              "      border: none;\n",
              "      border-radius: 50%;\n",
              "      cursor: pointer;\n",
              "      display: none;\n",
              "      fill: #1967D2;\n",
              "      height: 32px;\n",
              "      padding: 0 0 0 0;\n",
              "      width: 32px;\n",
              "    }\n",
              "\n",
              "    .colab-df-convert:hover {\n",
              "      background-color: #E2EBFA;\n",
              "      box-shadow: 0px 1px 2px rgba(60, 64, 67, 0.3), 0px 1px 3px 1px rgba(60, 64, 67, 0.15);\n",
              "      fill: #174EA6;\n",
              "    }\n",
              "\n",
              "    [theme=dark] .colab-df-convert {\n",
              "      background-color: #3B4455;\n",
              "      fill: #D2E3FC;\n",
              "    }\n",
              "\n",
              "    [theme=dark] .colab-df-convert:hover {\n",
              "      background-color: #434B5C;\n",
              "      box-shadow: 0px 1px 3px 1px rgba(0, 0, 0, 0.15);\n",
              "      filter: drop-shadow(0px 1px 2px rgba(0, 0, 0, 0.3));\n",
              "      fill: #FFFFFF;\n",
              "    }\n",
              "  </style>\n",
              "\n",
              "      <script>\n",
              "        const buttonEl =\n",
              "          document.querySelector('#df-94b2fad5-2556-4382-933e-839c83975678 button.colab-df-convert');\n",
              "        buttonEl.style.display =\n",
              "          google.colab.kernel.accessAllowed ? 'block' : 'none';\n",
              "\n",
              "        async function convertToInteractive(key) {\n",
              "          const element = document.querySelector('#df-94b2fad5-2556-4382-933e-839c83975678');\n",
              "          const dataTable =\n",
              "            await google.colab.kernel.invokeFunction('convertToInteractive',\n",
              "                                                     [key], {});\n",
              "          if (!dataTable) return;\n",
              "\n",
              "          const docLinkHtml = 'Like what you see? Visit the ' +\n",
              "            '<a target=\"_blank\" href=https://colab.research.google.com/notebooks/data_table.ipynb>data table notebook</a>'\n",
              "            + ' to learn more about interactive tables.';\n",
              "          element.innerHTML = '';\n",
              "          dataTable['output_type'] = 'display_data';\n",
              "          await google.colab.output.renderOutput(dataTable, element);\n",
              "          const docLink = document.createElement('div');\n",
              "          docLink.innerHTML = docLinkHtml;\n",
              "          element.appendChild(docLink);\n",
              "        }\n",
              "      </script>\n",
              "    </div>\n",
              "  </div>\n",
              "  "
            ]
          },
          "metadata": {},
          "execution_count": 7
        }
      ],
      "source": [
        "data.head()"
      ]
    },
    {
      "cell_type": "code",
      "execution_count": null,
      "metadata": {
        "colab": {
          "base_uri": "https://localhost:8080/"
        },
        "id": "CoGmlOZjIZt5",
        "outputId": "386f3bb0-587f-4a47-bdc4-a02938517a6c"
      },
      "outputs": [
        {
          "output_type": "execute_result",
          "data": {
            "text/plain": [
              "(16772092, 5)"
            ]
          },
          "metadata": {},
          "execution_count": 8
        }
      ],
      "source": [
        "data.shape"
      ]
    },
    {
      "cell_type": "code",
      "execution_count": null,
      "metadata": {
        "colab": {
          "base_uri": "https://localhost:8080/"
        },
        "id": "35wdhsTGIhE-",
        "outputId": "4018ad27-2ebd-42dd-dc4a-4d39b0df656a"
      },
      "outputs": [
        {
          "output_type": "execute_result",
          "data": {
            "text/plain": [
              "3920"
            ]
          },
          "metadata": {},
          "execution_count": 9
        }
      ],
      "source": [
        "data[\"WaferName\"].nunique()"
      ]
    },
    {
      "cell_type": "code",
      "execution_count": null,
      "metadata": {
        "colab": {
          "base_uri": "https://localhost:8080/"
        },
        "id": "zYExonefJBVc",
        "outputId": "1c1827f2-8150-4e90-d411-d2e32a11248e"
      },
      "outputs": [
        {
          "output_type": "execute_result",
          "data": {
            "text/plain": [
              "WaferName       0\n",
              "DieX            0\n",
              "DieY            0\n",
              "IsGoodDie       0\n",
              "IsScratchDie    0\n",
              "dtype: int64"
            ]
          },
          "metadata": {},
          "execution_count": 10
        }
      ],
      "source": [
        "data.isna().sum()"
      ]
    },
    {
      "cell_type": "code",
      "execution_count": null,
      "metadata": {
        "colab": {
          "base_uri": "https://localhost:8080/"
        },
        "id": "pKUwUSxpxVPf",
        "outputId": "c22a9a14-b9e0-4255-d291-4a6e802cc7b9"
      },
      "outputs": [
        {
          "output_type": "execute_result",
          "data": {
            "text/plain": [
              "WaferName       object\n",
              "DieX             int64\n",
              "DieY             int64\n",
              "IsGoodDie         bool\n",
              "IsScratchDie      bool\n",
              "dtype: object"
            ]
          },
          "metadata": {},
          "execution_count": 11
        }
      ],
      "source": [
        "data.dtypes"
      ]
    },
    {
      "cell_type": "code",
      "execution_count": null,
      "metadata": {
        "colab": {
          "base_uri": "https://localhost:8080/",
          "height": 300
        },
        "id": "9IqyB4_creDg",
        "outputId": "c937a3a6-7834-482a-bfed-eb43bc21b42c"
      },
      "outputs": [
        {
          "output_type": "execute_result",
          "data": {
            "text/plain": [
              "               DieX          DieY\n",
              "count  1.677209e+07  1.677209e+07\n",
              "mean   4.136554e+01  4.136554e+01\n",
              "std    2.373912e+01  2.373912e+01\n",
              "min    0.000000e+00  0.000000e+00\n",
              "25%    2.200000e+01  2.200000e+01\n",
              "50%    3.900000e+01  3.900000e+01\n",
              "75%    5.900000e+01  5.900000e+01\n",
              "max    1.040000e+02  1.040000e+02"
            ],
            "text/html": [
              "\n",
              "  <div id=\"df-923fb2e3-399b-4b24-8885-918b0fe6d262\">\n",
              "    <div class=\"colab-df-container\">\n",
              "      <div>\n",
              "<style scoped>\n",
              "    .dataframe tbody tr th:only-of-type {\n",
              "        vertical-align: middle;\n",
              "    }\n",
              "\n",
              "    .dataframe tbody tr th {\n",
              "        vertical-align: top;\n",
              "    }\n",
              "\n",
              "    .dataframe thead th {\n",
              "        text-align: right;\n",
              "    }\n",
              "</style>\n",
              "<table border=\"1\" class=\"dataframe\">\n",
              "  <thead>\n",
              "    <tr style=\"text-align: right;\">\n",
              "      <th></th>\n",
              "      <th>DieX</th>\n",
              "      <th>DieY</th>\n",
              "    </tr>\n",
              "  </thead>\n",
              "  <tbody>\n",
              "    <tr>\n",
              "      <th>count</th>\n",
              "      <td>1.677209e+07</td>\n",
              "      <td>1.677209e+07</td>\n",
              "    </tr>\n",
              "    <tr>\n",
              "      <th>mean</th>\n",
              "      <td>4.136554e+01</td>\n",
              "      <td>4.136554e+01</td>\n",
              "    </tr>\n",
              "    <tr>\n",
              "      <th>std</th>\n",
              "      <td>2.373912e+01</td>\n",
              "      <td>2.373912e+01</td>\n",
              "    </tr>\n",
              "    <tr>\n",
              "      <th>min</th>\n",
              "      <td>0.000000e+00</td>\n",
              "      <td>0.000000e+00</td>\n",
              "    </tr>\n",
              "    <tr>\n",
              "      <th>25%</th>\n",
              "      <td>2.200000e+01</td>\n",
              "      <td>2.200000e+01</td>\n",
              "    </tr>\n",
              "    <tr>\n",
              "      <th>50%</th>\n",
              "      <td>3.900000e+01</td>\n",
              "      <td>3.900000e+01</td>\n",
              "    </tr>\n",
              "    <tr>\n",
              "      <th>75%</th>\n",
              "      <td>5.900000e+01</td>\n",
              "      <td>5.900000e+01</td>\n",
              "    </tr>\n",
              "    <tr>\n",
              "      <th>max</th>\n",
              "      <td>1.040000e+02</td>\n",
              "      <td>1.040000e+02</td>\n",
              "    </tr>\n",
              "  </tbody>\n",
              "</table>\n",
              "</div>\n",
              "      <button class=\"colab-df-convert\" onclick=\"convertToInteractive('df-923fb2e3-399b-4b24-8885-918b0fe6d262')\"\n",
              "              title=\"Convert this dataframe to an interactive table.\"\n",
              "              style=\"display:none;\">\n",
              "        \n",
              "  <svg xmlns=\"http://www.w3.org/2000/svg\" height=\"24px\"viewBox=\"0 0 24 24\"\n",
              "       width=\"24px\">\n",
              "    <path d=\"M0 0h24v24H0V0z\" fill=\"none\"/>\n",
              "    <path d=\"M18.56 5.44l.94 2.06.94-2.06 2.06-.94-2.06-.94-.94-2.06-.94 2.06-2.06.94zm-11 1L8.5 8.5l.94-2.06 2.06-.94-2.06-.94L8.5 2.5l-.94 2.06-2.06.94zm10 10l.94 2.06.94-2.06 2.06-.94-2.06-.94-.94-2.06-.94 2.06-2.06.94z\"/><path d=\"M17.41 7.96l-1.37-1.37c-.4-.4-.92-.59-1.43-.59-.52 0-1.04.2-1.43.59L10.3 9.45l-7.72 7.72c-.78.78-.78 2.05 0 2.83L4 21.41c.39.39.9.59 1.41.59.51 0 1.02-.2 1.41-.59l7.78-7.78 2.81-2.81c.8-.78.8-2.07 0-2.86zM5.41 20L4 18.59l7.72-7.72 1.47 1.35L5.41 20z\"/>\n",
              "  </svg>\n",
              "      </button>\n",
              "      \n",
              "  <style>\n",
              "    .colab-df-container {\n",
              "      display:flex;\n",
              "      flex-wrap:wrap;\n",
              "      gap: 12px;\n",
              "    }\n",
              "\n",
              "    .colab-df-convert {\n",
              "      background-color: #E8F0FE;\n",
              "      border: none;\n",
              "      border-radius: 50%;\n",
              "      cursor: pointer;\n",
              "      display: none;\n",
              "      fill: #1967D2;\n",
              "      height: 32px;\n",
              "      padding: 0 0 0 0;\n",
              "      width: 32px;\n",
              "    }\n",
              "\n",
              "    .colab-df-convert:hover {\n",
              "      background-color: #E2EBFA;\n",
              "      box-shadow: 0px 1px 2px rgba(60, 64, 67, 0.3), 0px 1px 3px 1px rgba(60, 64, 67, 0.15);\n",
              "      fill: #174EA6;\n",
              "    }\n",
              "\n",
              "    [theme=dark] .colab-df-convert {\n",
              "      background-color: #3B4455;\n",
              "      fill: #D2E3FC;\n",
              "    }\n",
              "\n",
              "    [theme=dark] .colab-df-convert:hover {\n",
              "      background-color: #434B5C;\n",
              "      box-shadow: 0px 1px 3px 1px rgba(0, 0, 0, 0.15);\n",
              "      filter: drop-shadow(0px 1px 2px rgba(0, 0, 0, 0.3));\n",
              "      fill: #FFFFFF;\n",
              "    }\n",
              "  </style>\n",
              "\n",
              "      <script>\n",
              "        const buttonEl =\n",
              "          document.querySelector('#df-923fb2e3-399b-4b24-8885-918b0fe6d262 button.colab-df-convert');\n",
              "        buttonEl.style.display =\n",
              "          google.colab.kernel.accessAllowed ? 'block' : 'none';\n",
              "\n",
              "        async function convertToInteractive(key) {\n",
              "          const element = document.querySelector('#df-923fb2e3-399b-4b24-8885-918b0fe6d262');\n",
              "          const dataTable =\n",
              "            await google.colab.kernel.invokeFunction('convertToInteractive',\n",
              "                                                     [key], {});\n",
              "          if (!dataTable) return;\n",
              "\n",
              "          const docLinkHtml = 'Like what you see? Visit the ' +\n",
              "            '<a target=\"_blank\" href=https://colab.research.google.com/notebooks/data_table.ipynb>data table notebook</a>'\n",
              "            + ' to learn more about interactive tables.';\n",
              "          element.innerHTML = '';\n",
              "          dataTable['output_type'] = 'display_data';\n",
              "          await google.colab.output.renderOutput(dataTable, element);\n",
              "          const docLink = document.createElement('div');\n",
              "          docLink.innerHTML = docLinkHtml;\n",
              "          element.appendChild(docLink);\n",
              "        }\n",
              "      </script>\n",
              "    </div>\n",
              "  </div>\n",
              "  "
            ]
          },
          "metadata": {},
          "execution_count": 12
        }
      ],
      "source": [
        "data.describe()"
      ]
    },
    {
      "cell_type": "code",
      "execution_count": null,
      "metadata": {
        "colab": {
          "base_uri": "https://localhost:8080/"
        },
        "id": "rfnOdKMdtBfy",
        "outputId": "2f715f54-b376-44df-e7af-4ce789a8aead"
      },
      "outputs": [
        {
          "output_type": "stream",
          "name": "stdout",
          "text": [
            "84.0\n",
            "84.0\n"
          ]
        }
      ],
      "source": [
        "print(data[\"DieX\"].quantile(0.95))\n",
        "print(data[\"DieY\"].quantile(0.95))\n",
        "x_shape = data[\"DieX\"].max()\n",
        "y_shape = data[\"DieY\"].max()"
      ]
    },
    {
      "cell_type": "code",
      "execution_count": null,
      "metadata": {
        "colab": {
          "base_uri": "https://localhost:8080/",
          "height": 248
        },
        "id": "u1eCDOXwKxN8",
        "outputId": "4b8f6c27-d081-4152-d5fa-948397a4bf23"
      },
      "outputs": [
        {
          "output_type": "display_data",
          "data": {
            "text/plain": [
              "<Figure size 432x288 with 1 Axes>"
            ],
            "image/png": "[encoded data removed]"
          },
          "metadata": {}
        }
      ],
      "source": [
        "#checking the categories distribution\n",
        "good_die = data[(data[\"IsGoodDie\"] ==True) & (data[\"IsScratchDie\"]== False)]\n",
        "inked_die = data[(data[\"IsGoodDie\"] ==True) & (data[\"IsScratchDie\"]==True)]\n",
        "bad_not_scrath_die = data[(data[\"IsGoodDie\"] ==False) & (data[\"IsScratchDie\"]==False)]\n",
        "bad_scratched_die = data[(data[\"IsGoodDie\"] ==False) & (data[\"IsScratchDie\"]==True)]\n",
        "chart_data = [len(good_die),len(bad_not_scrath_die), len(inked_die)+ len(bad_scratched_die)]\n",
        "labels = ['good_die','bad_not_scrath_die', 'scratched_die']\n",
        "colors = sns.color_palette('pastel')[0:3]\n",
        "plt.pie(chart_data, labels = labels, colors = colors, autopct='%.0000f%%')\n",
        "plt.show()"
      ]
    },
    {
      "cell_type": "code",
      "execution_count": null,
      "metadata": {
        "colab": {
          "base_uri": "https://localhost:8080/"
        },
        "id": "XFwDh5plMCSy",
        "outputId": "9a87166e-8b53-4170-c5ac-f942d2804c34"
      },
      "outputs": [
        {
          "output_type": "stream",
          "name": "stdout",
          "text": [
            "precent of scratch die: 0.004694524690181762\n"
          ]
        }
      ],
      "source": [
        "precent_of_scratch = data[\"IsScratchDie\"].sum()/len(data)#including inked\n",
        "print(\"precent of scratch die:\" ,precent_of_scratch)\n",
        "\n"
      ]
    },
    {
      "cell_type": "markdown",
      "metadata": {
        "id": "KufQ4WgvXfzu"
      },
      "source": [
        "as we can see- the data is very unbalanced. \n",
        "\n",
        "we can infer that normal accuracy will do us no good in this model."
      ]
    },
    {
      "cell_type": "code",
      "execution_count": null,
      "metadata": {
        "colab": {
          "base_uri": "https://localhost:8080/",
          "height": 248
        },
        "id": "t7ZT8OAtTJ5u",
        "outputId": "970bce70-97e7-40f1-a603-d0fc65aa2ae3"
      },
      "outputs": [
        {
          "output_type": "display_data",
          "data": {
            "text/plain": [
              "<Figure size 432x288 with 1 Axes>"
            ],
            "image/png": "[encoded data removed]"
          },
          "metadata": {}
        }
      ],
      "source": [
        "#check the scratched data distribution\n",
        "chart_2_data = [len(inked_die), len(bad_scratched_die)]\n",
        "labels = ['inked_die','scratched_die']\n",
        "colors = sns.color_palette('pastel')[4:6]\n",
        "plt.pie(chart_2_data, labels = labels, colors = colors, autopct='%.0000f%%')\n",
        "plt.show()"
      ]
    },
    {
      "cell_type": "markdown",
      "metadata": {
        "id": "g7KJIWGelTuG"
      },
      "source": [
        "we want a label for is the die belongs to a scratched wafer or not"
      ]
    },
    {
      "cell_type": "code",
      "execution_count": null,
      "metadata": {
        "id": "cr6bEmHb_89_"
      },
      "outputs": [],
      "source": [
        "Is_Scratched_wafer = data.groupby([\"WaferName\"])[\"IsScratchDie\"].any().to_dict()\n"
      ]
    },
    {
      "cell_type": "code",
      "execution_count": null,
      "metadata": {
        "colab": {
          "base_uri": "https://localhost:8080/",
          "height": 455
        },
        "id": "AbfDpX5LltpO",
        "outputId": "24b27e03-3f7b-4590-d300-22f42a7778fa"
      },
      "outputs": [
        {
          "output_type": "execute_result",
          "data": {
            "text/plain": [
              "           IsScratchedWafer\n",
              "WaferName                  \n",
              "001f23                False\n",
              "002e68                False\n",
              "002ff9                False\n",
              "003483                False\n",
              "004531                False\n",
              "...                     ...\n",
              "ffa518                 True\n",
              "ffdb12                False\n",
              "ffe0d2                False\n",
              "ffe584                 True\n",
              "ffff74                False\n",
              "\n",
              "[3920 rows x 1 columns]"
            ],
            "text/html": [
              "\n",
              "  <div id=\"df-8f165b9c-dd18-443d-8d7c-fc3450935b00\">\n",
              "    <div class=\"colab-df-container\">\n",
              "      <div>\n",
              "<style scoped>\n",
              "    .dataframe tbody tr th:only-of-type {\n",
              "        vertical-align: middle;\n",
              "    }\n",
              "\n",
              "    .dataframe tbody tr th {\n",
              "        vertical-align: top;\n",
              "    }\n",
              "\n",
              "    .dataframe thead th {\n",
              "        text-align: right;\n",
              "    }\n",
              "</style>\n",
              "<table border=\"1\" class=\"dataframe\">\n",
              "  <thead>\n",
              "    <tr style=\"text-align: right;\">\n",
              "      <th></th>\n",
              "      <th>IsScratchedWafer</th>\n",
              "    </tr>\n",
              "    <tr>\n",
              "      <th>WaferName</th>\n",
              "      <th></th>\n",
              "    </tr>\n",
              "  </thead>\n",
              "  <tbody>\n",
              "    <tr>\n",
              "      <th>001f23</th>\n",
              "      <td>False</td>\n",
              "    </tr>\n",
              "    <tr>\n",
              "      <th>002e68</th>\n",
              "      <td>False</td>\n",
              "    </tr>\n",
              "    <tr>\n",
              "      <th>002ff9</th>\n",
              "      <td>False</td>\n",
              "    </tr>\n",
              "    <tr>\n",
              "      <th>003483</th>\n",
              "      <td>False</td>\n",
              "    </tr>\n",
              "    <tr>\n",
              "      <th>004531</th>\n",
              "      <td>False</td>\n",
              "    </tr>\n",
              "    <tr>\n",
              "      <th>...</th>\n",
              "      <td>...</td>\n",
              "    </tr>\n",
              "    <tr>\n",
              "      <th>ffa518</th>\n",
              "      <td>True</td>\n",
              "    </tr>\n",
              "    <tr>\n",
              "      <th>ffdb12</th>\n",
              "      <td>False</td>\n",
              "    </tr>\n",
              "    <tr>\n",
              "      <th>ffe0d2</th>\n",
              "      <td>False</td>\n",
              "    </tr>\n",
              "    <tr>\n",
              "      <th>ffe584</th>\n",
              "      <td>True</td>\n",
              "    </tr>\n",
              "    <tr>\n",
              "      <th>ffff74</th>\n",
              "      <td>False</td>\n",
              "    </tr>\n",
              "  </tbody>\n",
              "</table>\n",
              "<p>3920 rows × 1 columns</p>\n",
              "</div>\n",
              "      <button class=\"colab-df-convert\" onclick=\"convertToInteractive('df-8f165b9c-dd18-443d-8d7c-fc3450935b00')\"\n",
              "              title=\"Convert this dataframe to an interactive table.\"\n",
              "              style=\"display:none;\">\n",
              "        \n",
              "  <svg xmlns=\"http://www.w3.org/2000/svg\" height=\"24px\"viewBox=\"0 0 24 24\"\n",
              "       width=\"24px\">\n",
              "    <path d=\"M0 0h24v24H0V0z\" fill=\"none\"/>\n",
              "    <path d=\"M18.56 5.44l.94 2.06.94-2.06 2.06-.94-2.06-.94-.94-2.06-.94 2.06-2.06.94zm-11 1L8.5 8.5l.94-2.06 2.06-.94-2.06-.94L8.5 2.5l-.94 2.06-2.06.94zm10 10l.94 2.06.94-2.06 2.06-.94-2.06-.94-.94-2.06-.94 2.06-2.06.94z\"/><path d=\"M17.41 7.96l-1.37-1.37c-.4-.4-.92-.59-1.43-.59-.52 0-1.04.2-1.43.59L10.3 9.45l-7.72 7.72c-.78.78-.78 2.05 0 2.83L4 21.41c.39.39.9.59 1.41.59.51 0 1.02-.2 1.41-.59l7.78-7.78 2.81-2.81c.8-.78.8-2.07 0-2.86zM5.41 20L4 18.59l7.72-7.72 1.47 1.35L5.41 20z\"/>\n",
              "  </svg>\n",
              "      </button>\n",
              "      \n",
              "  <style>\n",
              "    .colab-df-container {\n",
              "      display:flex;\n",
              "      flex-wrap:wrap;\n",
              "      gap: 12px;\n",
              "    }\n",
              "\n",
              "    .colab-df-convert {\n",
              "      background-color: #E8F0FE;\n",
              "      border: none;\n",
              "      border-radius: 50%;\n",
              "      cursor: pointer;\n",
              "      display: none;\n",
              "      fill: #1967D2;\n",
              "      height: 32px;\n",
              "      padding: 0 0 0 0;\n",
              "      width: 32px;\n",
              "    }\n",
              "\n",
              "    .colab-df-convert:hover {\n",
              "      background-color: #E2EBFA;\n",
              "      box-shadow: 0px 1px 2px rgba(60, 64, 67, 0.3), 0px 1px 3px 1px rgba(60, 64, 67, 0.15);\n",
              "      fill: #174EA6;\n",
              "    }\n",
              "\n",
              "    [theme=dark] .colab-df-convert {\n",
              "      background-color: #3B4455;\n",
              "      fill: #D2E3FC;\n",
              "    }\n",
              "\n",
              "    [theme=dark] .colab-df-convert:hover {\n",
              "      background-color: #434B5C;\n",
              "      box-shadow: 0px 1px 3px 1px rgba(0, 0, 0, 0.15);\n",
              "      filter: drop-shadow(0px 1px 2px rgba(0, 0, 0, 0.3));\n",
              "      fill: #FFFFFF;\n",
              "    }\n",
              "  </style>\n",
              "\n",
              "      <script>\n",
              "        const buttonEl =\n",
              "          document.querySelector('#df-8f165b9c-dd18-443d-8d7c-fc3450935b00 button.colab-df-convert');\n",
              "        buttonEl.style.display =\n",
              "          google.colab.kernel.accessAllowed ? 'block' : 'none';\n",
              "\n",
              "        async function convertToInteractive(key) {\n",
              "          const element = document.querySelector('#df-8f165b9c-dd18-443d-8d7c-fc3450935b00');\n",
              "          const dataTable =\n",
              "            await google.colab.kernel.invokeFunction('convertToInteractive',\n",
              "                                                     [key], {});\n",
              "          if (!dataTable) return;\n",
              "\n",
              "          const docLinkHtml = 'Like what you see? Visit the ' +\n",
              "            '<a target=\"_blank\" href=https://colab.research.google.com/notebooks/data_table.ipynb>data table notebook</a>'\n",
              "            + ' to learn more about interactive tables.';\n",
              "          element.innerHTML = '';\n",
              "          dataTable['output_type'] = 'display_data';\n",
              "          await google.colab.output.renderOutput(dataTable, element);\n",
              "          const docLink = document.createElement('div');\n",
              "          docLink.innerHTML = docLinkHtml;\n",
              "          element.appendChild(docLink);\n",
              "        }\n",
              "      </script>\n",
              "    </div>\n",
              "  </div>\n",
              "  "
            ]
          },
          "metadata": {},
          "execution_count": 18
        }
      ],
      "source": [
        "IsScratched_to_WaferName = pd.DataFrame(list(Is_Scratched_wafer.items()), columns=[\"WaferName\", \"IsScratchedWafer\"])\n",
        "IsScratched_to_WaferName.set_index('WaferName')"
      ]
    },
    {
      "cell_type": "code",
      "execution_count": null,
      "metadata": {
        "id": "KQtnGa8zSPU0"
      },
      "outputs": [],
      "source": [
        "data['IsWaferScratch']= data['WaferName'].map(Is_Scratched_wafer)\n"
      ]
    },
    {
      "cell_type": "code",
      "execution_count": null,
      "metadata": {
        "colab": {
          "base_uri": "https://localhost:8080/"
        },
        "id": "i85M_Z7sSXG9",
        "outputId": "3ed0be54-2f4b-437c-ae56-12b3d1618e0a"
      },
      "outputs": [
        {
          "output_type": "execute_result",
          "data": {
            "text/plain": [
              "0.5037071105977716"
            ]
          },
          "metadata": {},
          "execution_count": 20
        }
      ],
      "source": [
        "data[\"IsWaferScratch\"].sum()/len(data)"
      ]
    },
    {
      "cell_type": "markdown",
      "metadata": {
        "id": "pxjzbZ21oQJx"
      },
      "source": [
        "it is an intresting statistic- because we know that the data is balanced wafer wize. but we dont need this column in our data, so we will drop it."
      ]
    },
    {
      "cell_type": "code",
      "execution_count": null,
      "metadata": {
        "colab": {
          "base_uri": "https://localhost:8080/",
          "height": 312
        },
        "id": "W4BRZCvwSauy",
        "outputId": "bdcfd5cc-0629-4187-f850-96c8dede6a30"
      },
      "outputs": [
        {
          "output_type": "execute_result",
          "data": {
            "text/plain": [
              "<matplotlib.axes._subplots.AxesSubplot at 0x7f2e316296a0>"
            ]
          },
          "metadata": {},
          "execution_count": 23
        },
        {
          "output_type": "display_data",
          "data": {
            "text/plain": [
              "<Figure size 432x288 with 1 Axes>"
            ],
            "image/png": "[encoded data removed]"
          },
          "metadata": {
            "needs_background": "light"
          }
        }
      ],
      "source": [
        "df = pd.DataFrame({'feature':['totalDies','IsGoodDie', 'IsScratchDie', 'IsWaferScratch'], 'precentege of data':[len(data)/len(data),data[\"IsGoodDie\"].sum()/len(data), data[\"IsScratchDie\"].sum()/len(data), data[\"IsWaferScratch\"].sum()/len(data)]})\n",
        "df.plot.bar(title = \"precentege distribution of features\", x='feature', y='precentege of data', rot=0)"
      ]
    },
    {
      "cell_type": "markdown",
      "metadata": {
        "id": "SAeT3nQySir2"
      },
      "source": [
        "what we have learned from this is very important. \n",
        "we have several features of the data that we need to consider, before spliting to train and validation:\n",
        "1. there is meaning to the dies belonging to certain wafer\n",
        "2. the data is imbalanced regarding \"IsScratchDie\"\n",
        "\n",
        "to split data by groups and to keep it stratified is a challenge.\n",
        "however- we just saw that the wafer's themselves are distributed almost perfectly in half to scratched and none scratched.\n",
        "therefor, when spliting dies grouped by mafer, we dont really need to worry about the imbalanced distribution of the \"IsScratchDie\", so we can use GroupShuffleSplit "
      ]
    },
    {
      "cell_type": "code",
      "execution_count": null,
      "metadata": {
        "id": "IiiZzzJzYlxV"
      },
      "outputs": [],
      "source": [
        "from sklearn.model_selection import GroupShuffleSplit \n",
        "\n",
        "splitter = GroupShuffleSplit(test_size=.20, n_splits=2, random_state = 7)\n",
        "split = splitter.split(data, groups=data['WaferName'])\n",
        "\n",
        "train_inds, test_inds = next(split)\n",
        "\n",
        "train = data.iloc[train_inds]\n",
        "validation = data.iloc[test_inds]"
      ]
    },
    {
      "cell_type": "code",
      "execution_count": null,
      "metadata": {
        "colab": {
          "base_uri": "https://localhost:8080/"
        },
        "id": "45e2BppWdG9b",
        "outputId": "c4e58032-c6ab-4e63-92a9-1375730b48be"
      },
      "outputs": [
        {
          "output_type": "execute_result",
          "data": {
            "text/plain": [
              "3136"
            ]
          },
          "metadata": {},
          "execution_count": 25
        }
      ],
      "source": [
        "train[\"WaferName\"].nunique()"
      ]
    },
    {
      "cell_type": "code",
      "execution_count": null,
      "metadata": {
        "colab": {
          "base_uri": "https://localhost:8080/"
        },
        "id": "TOSXpqeEc-CE",
        "outputId": "998f05ed-2fcd-4f99-bbb4-234c548fd75d"
      },
      "outputs": [
        {
          "output_type": "execute_result",
          "data": {
            "text/plain": [
              "784"
            ]
          },
          "metadata": {},
          "execution_count": 26
        }
      ],
      "source": [
        "validation[\"WaferName\"].nunique()"
      ]
    },
    {
      "cell_type": "markdown",
      "metadata": {
        "id": "QyKBlvTLbRQG"
      },
      "source": [
        "lets get a more visual understanding of the wafer maps:"
      ]
    },
    {
      "cell_type": "code",
      "execution_count": null,
      "metadata": {
        "id": "ryJB8xskd1Jr"
      },
      "outputs": [],
      "source": [
        "wafer_for_example = train[train['WaferName'] == '97a213']\n",
        "wafer_for_example_no_scratch = train[train['WaferName'] == '001f23']\n"
      ]
    },
    {
      "cell_type": "code",
      "execution_count": null,
      "metadata": {
        "id": "ZPCkRWR0QRq5"
      },
      "outputs": [],
      "source": [
        "def image_wafer(wafer_data, print = False):\n",
        "  N = wafer_data[\"DieX\"].max()+1\n",
        "  M = wafer_data[\"DieY\"].max()+1\n",
        "  mat = np.zeros((M,N))\n",
        "  for index, row in wafer_data.iterrows():\n",
        "    if (row[\"IsScratchDie\"]== True):\n",
        "      if(row[\"IsGoodDie\"] == False):#is scratch\n",
        "           mat[row[\"DieX\"], row[\"DieY\"]] = 20\n",
        "      if (row[\"IsGoodDie\"] == True):#is inked\n",
        "          mat[row[\"DieX\"], row[\"DieY\"]] = 10\n",
        "    elif(row[\"IsScratchDie\"]== False):\n",
        "      if (row[\"IsGoodDie\"] == True):#good \n",
        "         mat[row[\"DieX\"], row[\"DieY\"]] = 160\n",
        "      if (row[\"IsGoodDie\"] == True) :#bad \n",
        "         mat[row[\"DieX\"], row[\"DieY\"]] = 200\n",
        "  if(print ==True):\n",
        "    plt.imshow(mat, cmap = \"RdYlGn\", interpolation='nearest')\n",
        "    plt.show()\n",
        "  return mat"
      ]
    },
    {
      "cell_type": "code",
      "execution_count": null,
      "metadata": {
        "id": "MIxl3E0zvjqL"
      },
      "outputs": [],
      "source": [
        "def image_wafer_one_size(wafer_data,M,N, print = False):\n",
        "  \n",
        "  mat = np.zeros((M,N))\n",
        "  for index, row in wafer_data.iterrows():\n",
        "    if (row[\"IsScratchDie\"]== True):\n",
        "      if(row[\"IsGoodDie\"] == False):#is scratch\n",
        "           mat[row[\"DieX\"], row[\"DieY\"]] = 20\n",
        "      if (row[\"IsGoodDie\"] == True):#is inked\n",
        "          mat[row[\"DieX\"], row[\"DieY\"]] = 10\n",
        "    elif(row[\"IsScratchDie\"]== False):\n",
        "      if (row[\"IsGoodDie\"] == True):#good \n",
        "         mat[row[\"DieX\"], row[\"DieY\"]] = 160\n",
        "      if (row[\"IsGoodDie\"] == True) :#bad \n",
        "         mat[row[\"DieX\"], row[\"DieY\"]] = 200\n",
        "  if(print ==True):\n",
        "    plt.imshow(mat, cmap = \"RdYlGn\", interpolation='nearest')\n",
        "    plt.show()\n",
        "  return mat"
      ]
    },
    {
      "cell_type": "code",
      "execution_count": null,
      "metadata": {
        "id": "z6LRl94_TNhm"
      },
      "outputs": [],
      "source": [
        "def image_wafer_data(wafer_data, print =False):\n",
        "  N = wafer_data[\"DieX\"].max()+1\n",
        "  M = wafer_data[\"DieY\"].max()+1\n",
        "  #print(N,M)\n",
        "  mat = np.zeros((M,N))\n",
        "  for index, row in wafer_data.iterrows():\n",
        "    if row[\"IsGoodDie\"] == False:#is bad\n",
        "       mat[row[\"DieX\"], row[\"DieY\"]] = 150\n",
        "    if row[\"IsGoodDie\"] == True:#is good\n",
        "      mat[row[\"DieX\"], row[\"DieY\"]] = 255\n",
        "  \n",
        "  if(print ==True):\n",
        "    plt.imshow(mat, interpolation='nearest')\n",
        "    plt.show()\n",
        "  return mat"
      ]
    },
    {
      "cell_type": "code",
      "execution_count": null,
      "metadata": {
        "colab": {
          "base_uri": "https://localhost:8080/",
          "height": 636
        },
        "id": "np9T3qTIk9is",
        "outputId": "74ffeebe-ce2b-4073-9ffd-e0a985387fa4"
      },
      "outputs": [
        {
          "output_type": "display_data",
          "data": {
            "text/plain": [
              "<Figure size 432x288 with 1 Axes>"
            ],
            "image/png": "[encoded data removed]"
          },
          "metadata": {
            "needs_background": "light"
          }
        },
        {
          "output_type": "display_data",
          "data": {
            "text/plain": [
              "<Figure size 432x288 with 1 Axes>"
            ],
            "image/png": "[encoded data removed]"
          },
          "metadata": {
            "needs_background": "light"
          }
        },
        {
          "output_type": "execute_result",
          "data": {
            "text/plain": [
              "array([[0., 0., 0., ..., 0., 0., 0.],\n",
              "       [0., 0., 0., ..., 0., 0., 0.],\n",
              "       [0., 0., 0., ..., 0., 0., 0.],\n",
              "       ...,\n",
              "       [0., 0., 0., ..., 0., 0., 0.],\n",
              "       [0., 0., 0., ..., 0., 0., 0.],\n",
              "       [0., 0., 0., ..., 0., 0., 0.]])"
            ]
          },
          "metadata": {},
          "execution_count": 31
        }
      ],
      "source": [
        "image_wafer(wafer_for_example, print = True)\n",
        "\n",
        "image_wafer_data(wafer_for_example, print = True)"
      ]
    },
    {
      "cell_type": "code",
      "execution_count": null,
      "metadata": {
        "colab": {
          "base_uri": "https://localhost:8080/",
          "height": 636
        },
        "id": "LgDFJl2sDMr5",
        "outputId": "5fde87ea-774f-40d7-cf5f-7c084e539d99"
      },
      "outputs": [
        {
          "output_type": "display_data",
          "data": {
            "text/plain": [
              "<Figure size 432x288 with 1 Axes>"
            ],
            "image/png": "[encoded data removed]"
          },
          "metadata": {
            "needs_background": "light"
          }
        },
        {
          "output_type": "display_data",
          "data": {
            "text/plain": [
              "<Figure size 432x288 with 1 Axes>"
            ],
            "image/png": "[encoded data removed]"
          },
          "metadata": {
            "needs_background": "light"
          }
        },
        {
          "output_type": "execute_result",
          "data": {
            "text/plain": [
              "array([[0., 0., 0., ..., 0., 0., 0.],\n",
              "       [0., 0., 0., ..., 0., 0., 0.],\n",
              "       [0., 0., 0., ..., 0., 0., 0.],\n",
              "       ...,\n",
              "       [0., 0., 0., ..., 0., 0., 0.],\n",
              "       [0., 0., 0., ..., 0., 0., 0.],\n",
              "       [0., 0., 0., ..., 0., 0., 0.]])"
            ]
          },
          "metadata": {},
          "execution_count": 32
        }
      ],
      "source": [
        "\n",
        "image_wafer(wafer_for_example_no_scratch, print = True)\n",
        "image_wafer_data(wafer_for_example_no_scratch, print = True)"
      ]
    },
    {
      "cell_type": "markdown",
      "metadata": {
        "id": "Rx22JURJiqL6"
      },
      "source": [
        "lets split to target and data"
      ]
    },
    {
      "cell_type": "code",
      "execution_count": null,
      "metadata": {
        "id": "NbYXzS1Wie15"
      },
      "outputs": [],
      "source": [
        "def target_split(data_Set):\n",
        "  X = train.filter(items=['WaferName', 'DieX', 'DieY', 'IsGoodDie'])\n",
        "  y = train[\"IsScratchDie\"]\n",
        "  return X, y"
      ]
    },
    {
      "cell_type": "code",
      "execution_count": null,
      "metadata": {
        "id": "C1g3TT4Hifrz"
      },
      "outputs": [],
      "source": [
        "X_train, y_train = target_split(train)\n",
        "X_val, y_val = target_split(validation)"
      ]
    },
    {
      "cell_type": "markdown",
      "metadata": {
        "id": "-DQv7YURHRl3"
      },
      "source": [
        "##1.xgboost\n",
        "first, lets run a naive xgboosting model on the data, to see how it is preforming"
      ]
    },
    {
      "cell_type": "code",
      "execution_count": null,
      "metadata": {
        "id": "TdjE6oWqHQnk"
      },
      "outputs": [],
      "source": [
        "from xgboost import XGBClassifier\n",
        "from sklearn.model_selection import GridSearchCV\n",
        "best_grid_xgb = {\n",
        " 'learning_rate': [0.2, 0.5],\n",
        " 'max_depth': [4,8],\n",
        " 'min_child_weight': [1,2],\n",
        " 'subsample': [0.5, 0.7],\n",
        "'colsample_bytree': [0.5, 1]\n",
        "}"
      ]
    },
    {
      "cell_type": "code",
      "execution_count": null,
      "metadata": {
        "id": "GXojyefgIioA"
      },
      "outputs": [],
      "source": [
        "def run_XGboost(x, y):\n",
        "  xgb = XGBClassifier()\n",
        "  tuned_xgb = GridSearchCV(estimator=xgb, \n",
        "                          param_grid=best_grid_xgb,\n",
        "                          scoring='f1',\n",
        "                          cv=3, \n",
        "                          verbose=3)\n",
        "  tuned_xgb.fit(x, np.ravel(y))\n",
        "  return tuned_xgb"
      ]
    },
    {
      "cell_type": "code",
      "execution_count": null,
      "metadata": {
        "colab": {
          "base_uri": "https://localhost:8080/"
        },
        "id": "VddQZfthGxOQ",
        "outputId": "1bdb3b05-3bd9-4545-a06d-4e8e4b41a9ba"
      },
      "outputs": [
        {
          "output_type": "execute_result",
          "data": {
            "text/plain": [
              "WaferName    object\n",
              "DieX          int64\n",
              "DieY          int64\n",
              "IsGoodDie      bool\n",
              "dtype: object"
            ]
          },
          "metadata": {},
          "execution_count": 37
        }
      ],
      "source": [
        "X_train.dtypes"
      ]
    },
    {
      "cell_type": "code",
      "execution_count": null,
      "metadata": {
        "id": "UcxmblA4ge7Q"
      },
      "outputs": [],
      "source": [
        "X_train_numeric = X_train.copy(deep = True)\n"
      ]
    },
    {
      "cell_type": "code",
      "execution_count": null,
      "metadata": {
        "colab": {
          "base_uri": "https://localhost:8080/",
          "height": 373
        },
        "id": "r_q2yz3zZpHh",
        "outputId": "ac26c9a8-d646-4016-f6bc-89b430d91820"
      },
      "outputs": [
        {
          "output_type": "error",
          "ename": "ModuleNotFoundError",
          "evalue": "ignored",
          "traceback": [
            "\u001b[0;31m---------------------------------------------------------------------------\u001b[0m",
            "\u001b[0;31mModuleNotFoundError\u001b[0m                       Traceback (most recent call last)",
            "\u001b[0;32m<ipython-input-39-e5288b2beecd>\u001b[0m in \u001b[0;36m<module>\u001b[0;34m\u001b[0m\n\u001b[1;32m      1\u001b[0m \u001b[0;31m#!pip install category_encoders\u001b[0m\u001b[0;34m\u001b[0m\u001b[0;34m\u001b[0m\u001b[0;34m\u001b[0m\u001b[0m\n\u001b[0;32m----> 2\u001b[0;31m \u001b[0;32mimport\u001b[0m \u001b[0mcategory_encoders\u001b[0m \u001b[0;32mas\u001b[0m \u001b[0mce\u001b[0m\u001b[0;34m\u001b[0m\u001b[0;34m\u001b[0m\u001b[0m\n\u001b[0m\u001b[1;32m      3\u001b[0m \u001b[0;34m\u001b[0m\u001b[0m\n\u001b[1;32m      4\u001b[0m \u001b[0mencoder_waferName\u001b[0m \u001b[0;34m=\u001b[0m \u001b[0mce\u001b[0m\u001b[0;34m.\u001b[0m\u001b[0mHashingEncoder\u001b[0m\u001b[0;34m(\u001b[0m\u001b[0mn_components\u001b[0m\u001b[0;34m=\u001b[0m\u001b[0;36m8\u001b[0m\u001b[0;34m,\u001b[0m \u001b[0mcols\u001b[0m\u001b[0;34m=\u001b[0m\u001b[0;34m[\u001b[0m\u001b[0;34m'WaferName'\u001b[0m\u001b[0;34m]\u001b[0m\u001b[0;34m)\u001b[0m\u001b[0;34m\u001b[0m\u001b[0;34m\u001b[0m\u001b[0m\n\u001b[1;32m      5\u001b[0m \u001b[0;34m\u001b[0m\u001b[0m\n",
            "\u001b[0;31mModuleNotFoundError\u001b[0m: No module named 'category_encoders'",
            "",
            "\u001b[0;31m---------------------------------------------------------------------------\u001b[0;32m\nNOTE: If your import is failing due to a missing package, you can\nmanually install dependencies using either !pip or !apt.\n\nTo view examples of installing some common dependencies, click the\n\"Open Examples\" button below.\n\u001b[0;31m---------------------------------------------------------------------------\u001b[0m\n"
          ],
          "errorDetails": {
            "actions": [
              {
                "action": "open_url",
                "actionText": "Open Examples",
                "url": "/notebooks/snippets/importing_libraries.ipynb"
              }
            ]
          }
        }
      ],
      "source": [
        "#!pip install category_encoders\n",
        "#import category_encoders as ce\n",
        "\n",
        "#encoder_waferName = ce.HashingEncoder(n_components=8, cols=['WaferName'])\n",
        "\n",
        "#encoder_waferName.fit_transform(X_train_numeric)"
      ]
    },
    {
      "cell_type": "code",
      "execution_count": null,
      "metadata": {
        "id": "B5eTkheB5Dwm"
      },
      "outputs": [],
      "source": [
        "from sklearn import preprocessing\n",
        "def encoding():\n",
        "  lbl = preprocessing.LabelEncoder()\n",
        "  X_train_numeric = X_train.copy()\n",
        "  X_val_numeric = X_val.copy()\n",
        "  X_train_numeric['WaferName'] = lbl.fit_transform(X_train['WaferName'].astype(str))\n",
        "  X_val_numeric['WaferName'] = lbl.fit_transform(X_val['WaferName'].astype(str))\n",
        "  pass"
      ]
    },
    {
      "cell_type": "markdown",
      "metadata": {
        "id": "5GJZX21_flkz"
      },
      "source": [
        "in here, all the \"nice\" ways to encode categorial label has failed. \n",
        "the enable_categorial built in option didnt work(i think because of too many labels). the labelencoder created a very slow and heavy data to run. so the main solution that i have left is properly one-hot-encode the \"wafername\" to 3500+ different dummie variables.\n",
        "\n",
        "this seems of. it leads me to believe that the tabular representation is not best suited to the task."
      ]
    },
    {
      "cell_type": "code",
      "execution_count": null,
      "metadata": {
        "id": "YZ5pGUtSKKSC"
      },
      "outputs": [],
      "source": [
        "def run_XGboost(x_train, x_test):\n",
        "  trained_xgboost = run_XGboost(X_train_numeric, y_train)\n",
        "  trained_xgboost.best_params_\n",
        "  trained_xgboost.best_score_\n",
        "  pass\n",
        "  "
      ]
    },
    {
      "cell_type": "code",
      "execution_count": null,
      "metadata": {
        "id": "h85KBR2Khad2"
      },
      "outputs": [],
      "source": [
        "#trained_xgboost.save_model(\"/content/drive/MyDrive/NI_assigment/data/best_params.json\")"
      ]
    },
    {
      "cell_type": "markdown",
      "metadata": {
        "id": "H_UOT-cWVPEC"
      },
      "source": [
        "##2. CNN\n",
        "lets try to run a cnn on the data. since scratches has geometric meaning, i believe a better classifier can be trained on a matrix representation of the data. so lets create it first."
      ]
    },
    {
      "cell_type": "code",
      "execution_count": null,
      "metadata": {
        "id": "KikFbwsFWawC"
      },
      "outputs": [],
      "source": [
        "def get_wafer_names(data_set):\n",
        "  names = data_set[\"WaferName\"].unique()\n",
        "  return names"
      ]
    },
    {
      "cell_type": "code",
      "execution_count": null,
      "metadata": {
        "id": "Mxvfiuoaw65s",
        "colab": {
          "base_uri": "https://localhost:8080/",
          "height": 770
        },
        "outputId": "8f6b72ef-2042-4323-dbe1-1c00736b3898"
      },
      "outputs": [
        {
          "output_type": "display_data",
          "data": {
            "text/plain": [
              "<Figure size 432x288 with 1 Axes>"
            ],
            "image/png": "[encoded data removed]"
          },
          "metadata": {
            "needs_background": "light"
          }
        },
        {
          "output_type": "display_data",
          "data": {
            "text/plain": [
              "<Figure size 432x288 with 1 Axes>"
            ],
            "image/png": "[encoded data removed]"
          },
          "metadata": {
            "needs_background": "light"
          }
        },
        {
          "output_type": "display_data",
          "data": {
            "text/plain": [
              "<Figure size 432x288 with 1 Axes>"
            ],
            "image/png": "[encoded data removed]"
          },
          "metadata": {
            "needs_background": "light"
          }
        }
      ],
      "source": [
        "for wafer in IsScratched_to_WaferName.iloc[[1400,456,12],0]:\n",
        "  wafer_for_example_ = data[data['WaferName'] == wafer]\n",
        "  image_wafer_one_size(wafer_for_example_,x_shape,y_shape, print = True)\n",
        "\n"
      ]
    },
    {
      "cell_type": "markdown",
      "metadata": {
        "id": "-07OtDFty6WU"
      },
      "source": [
        "we can see that different wafers have different size. this may be problematic for a cnn.\n",
        "\n",
        "i think that evem though this is a problem, the data and the assigment is still an image segmentation problem in its assence.\n",
        "\n",
        "we have too many advanteges when representing the data as images-\n",
        "1. the geometric meaning of scratches is clearly represented.\n",
        "2. the categorial character of the wafer name becomes the picture object it self, instead of 3,500+ dummie variables\n",
        "3. creating new data for training is very easy and coherent when using image augmentation.\n",
        "\n",
        "therefor, i will try to solve the problem of reshaping. there are 2 main ways i can think of: \n",
        "1. reshape the data\n",
        "2. use FCN\n",
        "\n",
        "i think that the first step would be to use ordinary reshaping, to see how the model preforms. "
      ]
    },
    {
      "cell_type": "markdown",
      "metadata": {
        "id": "zX27wEGj-_NM"
      },
      "source": [
        "###create_dict data"
      ]
    },
    {
      "cell_type": "code",
      "execution_count": null,
      "metadata": {
        "id": "pn73QDKfp9wR"
      },
      "outputs": [],
      "source": [
        "def mask_label(wafer_data, print =False):\n",
        "  N = wafer_data[\"DieX\"].max()+1\n",
        "  M = wafer_data[\"DieY\"].max()+1\n",
        "  mat = np.zeros((M,N))\n",
        "  for index, row in wafer_data.iterrows():\n",
        "    if row[\"IsScratchDie\"] == False:#is bad\n",
        "       mat[row[\"DieX\"], row[\"DieY\"]] = 1\n",
        "    if row[\"IsScratchDie\"] == True:#is good\n",
        "      mat[row[\"DieX\"], row[\"DieY\"]] = 2\n",
        "  \n",
        "  if(print ==True):\n",
        "    plt.imshow(mat, interpolation='nearest')\n",
        "    plt.show()\n",
        "  return mat"
      ]
    },
    {
      "cell_type": "code",
      "execution_count": null,
      "metadata": {
        "id": "TAhnMfKMqnaO",
        "colab": {
          "base_uri": "https://localhost:8080/",
          "height": 387
        },
        "outputId": "16e8b5eb-8e2b-4a83-f56d-6d8e1c345136"
      },
      "outputs": [
        {
          "output_type": "display_data",
          "data": {
            "text/plain": [
              "<Figure size 432x288 with 1 Axes>"
            ],
            "image/png": "[encoded data removed]"
          },
          "metadata": {
            "needs_background": "light"
          }
        },
        {
          "output_type": "execute_result",
          "data": {
            "text/plain": [
              "array([[0., 0., 0., ..., 0., 0., 0.],\n",
              "       [0., 0., 0., ..., 0., 0., 0.],\n",
              "       [0., 0., 0., ..., 0., 0., 0.],\n",
              "       ...,\n",
              "       [0., 0., 0., ..., 0., 0., 0.],\n",
              "       [0., 0., 0., ..., 0., 0., 0.],\n",
              "       [0., 0., 0., ..., 0., 0., 0.]])"
            ]
          },
          "metadata": {},
          "execution_count": 43
        }
      ],
      "source": [
        "image_wafer_data(wafer_for_example_no_scratch, print = True)\n",
        "mask_label(wafer_for_example_no_scratch, print = True)"
      ]
    },
    {
      "cell_type": "code",
      "execution_count": null,
      "metadata": {
        "id": "g6A9w1MJqwXu",
        "colab": {
          "base_uri": "https://localhost:8080/",
          "height": 636
        },
        "outputId": "1f94bd48-51cc-4956-f136-06138759f357"
      },
      "outputs": [
        {
          "output_type": "display_data",
          "data": {
            "text/plain": [
              "<Figure size 432x288 with 1 Axes>"
            ],
            "image/png": "[encoded data removed]"
          },
          "metadata": {
            "needs_background": "light"
          }
        },
        {
          "output_type": "display_data",
          "data": {
            "text/plain": [
              "<Figure size 432x288 with 1 Axes>"
            ],
            "image/png": "[encoded data removed]"
          },
          "metadata": {
            "needs_background": "light"
          }
        },
        {
          "output_type": "execute_result",
          "data": {
            "text/plain": [
              "array([[0., 0., 0., ..., 0., 0., 0.],\n",
              "       [0., 0., 0., ..., 0., 0., 0.],\n",
              "       [0., 0., 0., ..., 0., 0., 0.],\n",
              "       ...,\n",
              "       [0., 0., 0., ..., 0., 0., 0.],\n",
              "       [0., 0., 0., ..., 0., 0., 0.],\n",
              "       [0., 0., 0., ..., 0., 0., 0.]])"
            ]
          },
          "metadata": {},
          "execution_count": 44
        }
      ],
      "source": [
        "image_wafer_data(wafer_for_example, print = True)\n",
        "mask_label(wafer_for_example, print = True)\n"
      ]
    },
    {
      "cell_type": "code",
      "execution_count": null,
      "metadata": {
        "id": "QcFJTGfBVkrh"
      },
      "outputs": [],
      "source": [
        "def create_image_data(table_data):\n",
        "  wafer_dict = {}\n",
        "  wafer_label_dict = {}\n",
        "  wafer_binary_label_dict = {}\n",
        "  wafer_names = get_wafer_names(table_data)\n",
        "\n",
        "  for wafer in wafer_names:\n",
        "    curr_wafer = table_data[table_data['WaferName'] == wafer]\n",
        "    wafer_dict[\"{0}\".format(wafer)] = image_wafer_data(curr_wafer)\n",
        "    wafer_label_dict[\"{0}\".format(wafer)] = mask_label(curr_wafer)\n",
        "    wafer_binary_label_dict[\"{0}\".format(wafer)]= IsScratched_to_WaferName.loc[IsScratched_to_WaferName['WaferName'] == wafer, 'IsScratchedWafer'].iloc[0]\n",
        "\n",
        "  return wafer_dict, wafer_label_dict, wafer_binary_label_dict"
      ]
    },
    {
      "cell_type": "code",
      "source": [
        "def create_image_test(table_data):\n",
        "  wafer_dict = {}\n",
        "  \n",
        "  wafer_names = get_wafer_names(table_data)\n",
        "\n",
        "  for wafer in wafer_names:\n",
        "    curr_wafer = table_data[table_data['WaferName'] == wafer]\n",
        "    wafer_dict[\"{0}\".format(wafer)] = image_wafer_data(curr_wafer)\n",
        "    \n",
        "  return wafer_dict"
      ],
      "metadata": {
        "id": "YB4b5ut1v_uT"
      },
      "execution_count": null,
      "outputs": []
    },
    {
      "cell_type": "code",
      "execution_count": null,
      "metadata": {
        "id": "UCpWagDStpAO"
      },
      "outputs": [],
      "source": [
        "#wafer_dict_train, wafer_label_dict_train, binary_dict_train = create_image_data(train)\n",
        "wafer_dict_test = create_image_test(test)"
      ]
    },
    {
      "cell_type": "code",
      "source": [
        "len(wafer_dict_test)"
      ],
      "metadata": {
        "colab": {
          "base_uri": "https://localhost:8080/"
        },
        "id": "H3jUet6ZxRq4",
        "outputId": "24f86293-b16a-446b-f618-d9f23c8d071c"
      },
      "execution_count": null,
      "outputs": [
        {
          "output_type": "execute_result",
          "data": {
            "text/plain": [
              "439"
            ]
          },
          "metadata": {},
          "execution_count": 51
        }
      ]
    },
    {
      "cell_type": "code",
      "execution_count": null,
      "metadata": {
        "id": "OeXSdonTtzt1"
      },
      "outputs": [],
      "source": [
        "def save_dicts_train(wafer_dict, wafer_label_dict, wafer_binary_label_dict) \n",
        "# save dictionary to pickle file\n",
        "  with open('/content/drive/MyDrive/NI_assigment/data/wafer_dict_train.pickle', 'wb') as file:\n",
        "      pickle.dump(wafer_dict_train, file, protocol=pickle.HIGHEST_PROTOCOL)\n",
        "  with open('/content/drive/MyDrive/NI_assigment/data/wafer_label_dict_train.pickle', 'wb') as file:\n",
        "      pickle.dump(wafer_label_dict_train, file, protocol=pickle.HIGHEST_PROTOCOL)\n",
        "  with open('/content/drive/MyDrive/NI_assigment/data/wafer_binary_train.pickle', 'wb') as file:\n",
        "      pickle.dump(binary_dict_train, file, protocol=pickle.HIGHEST_PROTOCOL)"
      ]
    },
    {
      "cell_type": "code",
      "source": [
        "  with open('/content/drive/MyDrive/NI_assigment/data/wafer_dict_test.pickle', 'wb') as file:\n",
        "      pickle.dump(wafer_dict_test, file, protocol=pickle.HIGHEST_PROTOCOL)"
      ],
      "metadata": {
        "id": "UWPiPU7GqNiM"
      },
      "execution_count": null,
      "outputs": []
    },
    {
      "cell_type": "code",
      "execution_count": null,
      "metadata": {
        "id": "hLGe1BOPvG-U"
      },
      "outputs": [],
      "source": [
        "#wafer_dict_val, wafer_label_dict_val, binary_dict_val = create_image_data(validation)"
      ]
    },
    {
      "cell_type": "code",
      "execution_count": null,
      "metadata": {
        "id": "UEr0opf4vMLT"
      },
      "outputs": [],
      "source": [
        "def save_dicts_train(wafer_dict_val, wafer_label_dict_val, binary_dict_val) \n",
        "# save dictionary to pickle file\n",
        "  with open('/content/drive/MyDrive/NI_assigment/data/wafer_dict_val.pickle', 'wb') as file:\n",
        "      pickle.dump(wafer_dict_val, file, protocol=pickle.HIGHEST_PROTOCOL)\n",
        "  with open('/content/drive/MyDrive/NI_assigment/data/wafer_label_dict_val.pickle', 'wb') as file:\n",
        "      pickle.dump(wafer_label_dict_val, file, protocol=pickle.HIGHEST_PROTOCOL)\n",
        "  with open('/content/drive/MyDrive/NI_assigment/data/wafer_binary_val.pickle', 'wb') as file:\n",
        "      pickle.dump(binary_dict_val, file, protocol=pickle.HIGHEST_PROTOCOL)"
      ]
    },
    {
      "cell_type": "code",
      "execution_count": null,
      "metadata": {
        "id": "z5g_N167gnyV"
      },
      "outputs": [],
      "source": [
        "wafer_dict['2cd2b6'].sum()"
      ]
    },
    {
      "cell_type": "markdown",
      "metadata": {
        "id": "0Ug7n4t6KJto"
      },
      "source": [
        "###load dict data"
      ]
    },
    {
      "cell_type": "code",
      "execution_count": null,
      "metadata": {
        "id": "MM0l8YjtjjXL"
      },
      "outputs": [],
      "source": [
        "with open('/content/drive/MyDrive/NI_assigment/data/wafer_dict_train.pickle', \"rb\") as file:\n",
        "    wafer_dict_train = pickle.load(file)\n",
        "with open('/content/drive/MyDrive/NI_assigment/data/wafer_label_dict_train.pickle', \"rb\") as file:\n",
        "    label_dict_train = pickle.load(file)\n",
        "with open('/content/drive/MyDrive/NI_assigment/data/wafer_binary_train.pickle', \"rb\") as file:\n",
        "    binary_label_train = pickle.load(file)\n",
        "with open('/content/drive/MyDrive/NI_assigment/data/wafer_dict_val.pickle', 'rb') as file:\n",
        "    wafer_dict_val = pickle.load(file)\n",
        "with open('/content/drive/MyDrive/NI_assigment/data/wafer_label_dict_val.pickle', 'rb') as file:\n",
        "    label_dict_val = pickle.load(file)\n",
        "with open('/content/drive/MyDrive/NI_assigment/data/wafer_binary_val.pickle', \"rb\") as file:\n",
        "    binary_label_val = pickle.load(file)\n",
        "with open('/content/drive/MyDrive/NI_assigment/data/wafer_dict_test.pickle', 'rb') as file:\n",
        "    wafer_dict_test = pickle.load(file)\n"
      ]
    },
    {
      "cell_type": "code",
      "execution_count": null,
      "metadata": {
        "id": "uhNY7byYolpl"
      },
      "outputs": [],
      "source": [
        "def mat_wafer_print(wafer):\n",
        " \n",
        "  plt.imshow(wafer, cmap = \"RdYlGn\", interpolation='nearest')\n",
        "  plt.show()\n"
      ]
    },
    {
      "cell_type": "code",
      "execution_count": null,
      "metadata": {
        "id": "eXzL_8Pfo40j",
        "colab": {
          "base_uri": "https://localhost:8080/",
          "height": 519
        },
        "outputId": "5ae35d3c-7afb-4415-d2fa-60e9d0647537"
      },
      "outputs": [
        {
          "output_type": "display_data",
          "data": {
            "text/plain": [
              "<Figure size 432x288 with 1 Axes>"
            ],
            "image/png": "[encoded data removed]"
          },
          "metadata": {
            "needs_background": "light"
          }
        },
        {
          "output_type": "display_data",
          "data": {
            "text/plain": [
              "<Figure size 432x288 with 1 Axes>"
            ],
            "image/png": "[encoded data removed]"
          },
          "metadata": {
            "needs_background": "light"
          }
        }
      ],
      "source": [
        "mat_wafer_print(wafer_dict_train[\"d412db\"])\n",
        "mat_wafer_print(label_dict_train[\"d412db\"])"
      ]
    },
    {
      "cell_type": "code",
      "execution_count": null,
      "metadata": {
        "id": "GQmzO-m2ZVAm",
        "colab": {
          "base_uri": "https://localhost:8080/",
          "height": 513
        },
        "outputId": "701a7c91-9eb1-4733-aafe-f0704db8d43b"
      },
      "outputs": [
        {
          "output_type": "display_data",
          "data": {
            "text/plain": [
              "<Figure size 432x288 with 1 Axes>"
            ],
            "image/png": "[encoded data removed]"
          },
          "metadata": {
            "needs_background": "light"
          }
        },
        {
          "output_type": "display_data",
          "data": {
            "text/plain": [
              "<Figure size 432x288 with 1 Axes>"
            ],
            "image/png": "[encoded data removed]"
          },
          "metadata": {
            "needs_background": "light"
          }
        }
      ],
      "source": [
        "mat_wafer_print(wafer_dict_val[\"acf4db\"])\n",
        "mat_wafer_print(label_dict_val[\"acf4db\"])"
      ]
    },
    {
      "cell_type": "code",
      "source": [
        "#for the final training\n",
        "def Merge(dict1, dict2):\n",
        "    res = {**dict1, **dict2}\n",
        "    return res\n",
        "full_wafer_dict= Merge(wafer_dict_train, wafer_dict_val)\n",
        "full_label_dict= Merge(label_dict_train, label_dict_val)"
      ],
      "metadata": {
        "id": "WHPGrPGOr27A"
      },
      "execution_count": null,
      "outputs": []
    },
    {
      "cell_type": "markdown",
      "metadata": {
        "id": "mKG5ZVa_7TDi"
      },
      "source": [
        "###create tensor data\n",
        "\n",
        "if we want to train a cnn on the data, we need to resize the data"
      ]
    },
    {
      "cell_type": "code",
      "execution_count": null,
      "metadata": {
        "id": "KC3UzNjc7RwM"
      },
      "outputs": [],
      "source": [
        "import tensorflow as tf"
      ]
    },
    {
      "cell_type": "code",
      "execution_count": null,
      "metadata": {
        "id": "JOkupttz1OPD"
      },
      "outputs": [],
      "source": [
        "# Convert the dictionaries to lists of tuples\n",
        "def dict_to_model_format(dict_data, dict_label):\n",
        "  data = list(zip(dict_data.values(), dict_label.values()))\n",
        "\n",
        "  # Find the maximum height and width among all images and labels\n",
        "  #height = max([image.shape[0] for image, _ in data])\n",
        "  #width = max([image.shape[1] for image, _ in data])\n",
        "  height = 128\n",
        "  width = 128\n",
        "  # Pad the images and labels to the maximum height and width\n",
        "  padded_im = []\n",
        "  padded_labels = []\n",
        "  for image, label in data:\n",
        "    image = tf.expand_dims(image, axis=-1)\n",
        "    label = tf.expand_dims(label, axis=-1)\n",
        "    padded_image = tf.image.resize_with_crop_or_pad(image, height, width)\n",
        "    padded_label = tf.image.resize_with_crop_or_pad(label, height, width)\n",
        "    #lets also normalize:\n",
        " \n",
        "    padded_image = padded_image/255\n",
        "    \n",
        "    padded_im.append(padded_image)\n",
        "    padded_labels.append(padded_label)\n",
        "\n",
        "  # Create a tf.data.Dataset object from the list of tuples\n",
        "  print(padded_im[0].shape)\n",
        "  \n",
        "  images_dataset = tf.data.Dataset.from_tensor_slices(padded_im)\n",
        "  labels_dataset = tf.data.Dataset.from_tensor_slices(padded_labels)\n",
        "  ds = tf.data.Dataset.zip((images_dataset, labels_dataset))\n",
        "  \n",
        "  return ds\n",
        "  #return images_dataset, labels_dataset"
      ]
    },
    {
      "cell_type": "code",
      "source": [
        "def dict_to_model_format_test(dict_data):\n",
        "  data = list(dict_data.values())\n",
        "\n",
        "\n",
        "  height = 128\n",
        "  width = 128\n",
        "  # Pad the images and labels to the maximum height and width\n",
        "  padded_im = []\n",
        "\n",
        "  for image in data:\n",
        "    image = tf.expand_dims(image, axis=-1)\n",
        "\n",
        "    padded_image = tf.image.resize_with_crop_or_pad(image, height, width)\n",
        "   \n",
        "    #lets also normalize:\n",
        " \n",
        "    padded_image = padded_image/255\n",
        "    \n",
        "    padded_im.append(padded_image)\n",
        "  \n",
        "  \n",
        "  images_dataset = tf.data.Dataset.from_tensor_slices(padded_im)\n",
        "\n",
        "  return images_dataset"
      ],
      "metadata": {
        "id": "u0pk2tMXyGLc"
      },
      "execution_count": null,
      "outputs": []
    },
    {
      "cell_type": "code",
      "execution_count": null,
      "metadata": {
        "id": "lu3btJpNpBKc"
      },
      "outputs": [],
      "source": [
        "def dict_to_model_format_parts(dict_data, dict_label, binary_dict):\n",
        "  data = list(zip(dict_data.values(), dict_label.values()))\n",
        "  class_labels = binary_dict.values()\n",
        "  # Find the maximum height and width among all images and labels\n",
        "  #height = max([image.shape[0] for image, _ in data])\n",
        "  #width = max([image.shape[1] for image, _ in data])\n",
        "  height = 128\n",
        "  width = 128\n",
        "  # Pad the images and labels to the maximum height and width\n",
        "  padded_im = []\n",
        "  padded_labels = []\n",
        "  for image, label in data:\n",
        "    image = tf.expand_dims(image, axis=-1)\n",
        "    label = tf.expand_dims(label, axis=-1)\n",
        "    padded_image = tf.image.resize_with_crop_or_pad(image, height, width)\n",
        "    padded_label = tf.image.resize_with_crop_or_pad(label, height, width)\n",
        "    #lets also normalize:\n",
        " \n",
        "    padded_image = padded_image/255\n",
        "    \n",
        "    padded_im.append(padded_image)\n",
        "    padded_labels.append(padded_label)\n",
        "\n",
        "  # Create a tf.data.Dataset object from the list of tuples\n",
        "  print(padded_im[0].shape)\n",
        "  images_dataset = tf.data.Dataset.from_tensor_slices(padded_im)\n",
        "  labels_dataset = tf.data.Dataset.from_tensor_slices(padded_labels)\n",
        "  #ds = tf.data.Dataset.zip((images_dataset, labels_dataset))\n",
        "  #return ds\n",
        "  return images_dataset, labels_dataset, binary_dict"
      ]
    },
    {
      "cell_type": "markdown",
      "metadata": {
        "id": "DUluewS-DoSH"
      },
      "source": [
        "lets make sure the data is good"
      ]
    },
    {
      "cell_type": "code",
      "execution_count": null,
      "metadata": {
        "id": "oRbuaQfPCskI"
      },
      "outputs": [],
      "source": [
        "def check_tensor_data(dataset):\n",
        "  # Retrieve a small slice of the dataset\n",
        "  small_slice = dataset.take(3)\n",
        "\n",
        "  # Set up the subplots\n",
        "  fig, axs = plt.subplots(3, 2, figsize=(10, 20))\n",
        "\n",
        "  # Iterate over the small slice\n",
        "  for i, (image_batch, label_batch) in enumerate(small_slice):\n",
        "    image_batch = np.squeeze(image_batch)  # convert 3D image to 2D\n",
        "    label_batch = np.squeeze(label_batch)\n",
        "    # Display the original image\n",
        "    axs[i, 0].imshow(image_batch)\n",
        "    axs[i, 0].set_title(\"Original Image\")\n",
        "    \n",
        "    # Display the label image\n",
        "    axs[i, 1].imshow(label_batch)\n",
        "    axs[i, 1].set_title(\"Label Image\")\n",
        "\n",
        "  plt.show()\n",
        "\n",
        "\n"
      ]
    },
    {
      "cell_type": "code",
      "execution_count": null,
      "metadata": {
        "id": "IXd7s19uGMlp",
        "colab": {
          "base_uri": "https://localhost:8080/"
        },
        "outputId": "901cf410-e525-4c82-f278-53c3daf6b813"
      },
      "outputs": [
        {
          "output_type": "stream",
          "name": "stdout",
          "text": [
            "(128, 128, 1)\n",
            "(128, 128, 1)\n",
            "(128, 128, 1)\n"
          ]
        }
      ],
      "source": [
        "train_dataset = dict_to_model_format(wafer_dict_train, label_dict_train)\n",
        "validation_dataset = dict_to_model_format(wafer_dict_val, label_dict_val)\n",
        "test_dataset = dict_to_model_format_test(wafer_dict_test)\n",
        "full_train_dataset = dict_to_model_format(full_wafer_dict,full_label_dict)"
      ]
    },
    {
      "cell_type": "code",
      "execution_count": null,
      "metadata": {
        "id": "6yXWR9VGEevs"
      },
      "outputs": [],
      "source": [
        "#train_dataset = dict_to_model_format_listversion(wafer_dict_train, label_dict_train)\n",
        "#validation_dataset = dict_to_model_format_listversion(wafer_dict_val, label_dict_val)"
      ]
    },
    {
      "cell_type": "code",
      "execution_count": null,
      "metadata": {
        "id": "XX-ghZjgGeBi",
        "colab": {
          "base_uri": "https://localhost:8080/"
        },
        "outputId": "5bf34fdd-3e04-4aed-9ee3-3274ccbc12da"
      },
      "outputs": [
        {
          "output_type": "stream",
          "name": "stdout",
          "text": [
            "(TensorSpec(shape=(128, 128, 1), dtype=tf.float64, name=None), TensorSpec(shape=(128, 128, 1), dtype=tf.float64, name=None))\n"
          ]
        }
      ],
      "source": [
        "print(train_dataset.element_spec)"
      ]
    },
    {
      "cell_type": "code",
      "execution_count": null,
      "metadata": {
        "id": "qIpxpelGuVrl"
      },
      "outputs": [],
      "source": [
        "#train_image, train_mask, binary_train = dict_to_model_format_parts(wafer_dict_train, label_dict_train, binary_label_train)\n",
        "#val_image, val_mask, binary_val = dict_to_model_format_parts(wafer_dict_val, label_dict_val, binary_label_val)"
      ]
    },
    {
      "cell_type": "code",
      "execution_count": null,
      "metadata": {
        "id": "KZEnTKX1XD3N",
        "colab": {
          "base_uri": "https://localhost:8080/",
          "height": 1000
        },
        "outputId": "996194b0-89a2-419c-99e8-bda76481d553"
      },
      "outputs": [
        {
          "output_type": "display_data",
          "data": {
            "text/plain": [
              "<Figure size 720x1440 with 6 Axes>"
            ],
            "image/png": "[encoded data removed]"
          },
          "metadata": {
            "needs_background": "light"
          }
        }
      ],
      "source": [
        "check_tensor_data(train_dataset)"
      ]
    },
    {
      "cell_type": "markdown",
      "metadata": {
        "id": "7sMYMpMpKp-Y"
      },
      "source": [
        "###data augmentation"
      ]
    },
    {
      "cell_type": "code",
      "execution_count": null,
      "metadata": {
        "id": "vn3O_u3sVnCu"
      },
      "outputs": [],
      "source": [
        "class Augment(tf.keras.layers.Layer):\n",
        "  def __init__(self, seed=42):\n",
        "    super().__init__()\n",
        "    # both use the same seed, so they'll make the same random changes.\n",
        "    self.augment_inputs = tf.keras.layers.RandomFlip(mode=\"horizontal\", seed=seed)\n",
        "    self.augment_labels = tf.keras.layers.RandomFlip(mode=\"horizontal\", seed=seed)\n",
        "\n",
        "  def call(self, inputs, labels):\n",
        "    inputs = self.augment_inputs(inputs)\n",
        "    labels = self.augment_labels(labels)\n",
        "    return inputs, labels"
      ]
    },
    {
      "cell_type": "code",
      "execution_count": null,
      "metadata": {
        "id": "9JpZMKjIVocU"
      },
      "outputs": [],
      "source": [
        "augmented_train_ds = train_ds.map(Augment())"
      ]
    },
    {
      "cell_type": "code",
      "execution_count": null,
      "metadata": {
        "id": "_CC2hLy3Wacj"
      },
      "outputs": [],
      "source": [
        "type(augmented_train_ds)"
      ]
    },
    {
      "cell_type": "code",
      "execution_count": null,
      "metadata": {
        "id": "dPWrEtgvMYVL"
      },
      "outputs": [],
      "source": [
        "check_tensor_data(augmented_train_ds)\n"
      ]
    },
    {
      "cell_type": "markdown",
      "metadata": {
        "id": "PkloFePLldpU"
      },
      "source": [
        "##models"
      ]
    },
    {
      "cell_type": "code",
      "execution_count": null,
      "metadata": {
        "id": "ewNPV3XVlkle"
      },
      "outputs": [],
      "source": [
        "from keras.models import Model\n",
        "from keras.layers import Input, concatenate, Conv2D, MaxPooling2D, Conv2DTranspose\n",
        "from keras.optimizers import Adam\n",
        "from keras.callbacks import ModelCheckpoint\n",
        "from keras import backend as K"
      ]
    },
    {
      "cell_type": "markdown",
      "metadata": {
        "id": "RdVNfDmt3t6x"
      },
      "source": [
        "###Unet"
      ]
    },
    {
      "cell_type": "markdown",
      "source": [
        "unfortunetly, with in the deadline, i was not able to make the Unet work. it seems that theres somthing off with the dimensions- the prediction returns a too small segmentation mash (128,16,1).\n",
        "for this reason, also the NN it self does not improve between epochs. \n",
        "\n"
      ],
      "metadata": {
        "id": "3-rihHcw3mGB"
      }
    },
    {
      "cell_type": "code",
      "execution_count": null,
      "metadata": {
        "id": "c38anbYdnvLL"
      },
      "outputs": [],
      "source": [
        "def recall_m(y_true, y_pred):\n",
        "    true_positives = K.sum(K.round(K.clip(y_true * y_pred, 0, 1)))\n",
        "    possible_positives = K.sum(K.round(K.clip(y_true, 0, 1)))\n",
        "    recall = true_positives / (possible_positives + K.epsilon())\n",
        "    return recall\n",
        "\n",
        "def precision_m(y_true, y_pred):\n",
        "    true_positives = K.sum(K.round(K.clip(y_true * y_pred, 0, 1)))\n",
        "    predicted_positives = K.sum(K.round(K.clip(y_pred, 0, 1)))\n",
        "    precision = true_positives / (predicted_positives + K.epsilon())\n",
        "    return precision\n",
        "\n",
        "def f1_m(y_true, y_pred):\n",
        "    precision = precision_m(y_true, y_pred)\n",
        "    recall = recall_m(y_true, y_pred)\n",
        "    return 2*((precision*recall)/(precision+recall+K.epsilon()))\n",
        "\n",
        "    #jaccard distance is a good metric for images similarity- so it can be a proper loss function for us.\n",
        "def jaccard_distance(y_true, y_pred, smooth=100):\n",
        "    intersection = K.sum(K.abs(y_true * y_pred), axis=-1)\n",
        "    sum_ = K.sum(K.abs(y_true) + K.abs(y_pred), axis=-1)\n",
        "    jac = (intersection + smooth) / (sum_ - intersection + smooth)\n",
        "    return jac\n",
        "def jaccard_loss(y_true, y_pred, smooth=100):\n",
        "    jac = jaccard_distance(y_true, y_pred, smooth=100)\n",
        "    return (1 - jac) * smooth"
      ]
    },
    {
      "cell_type": "code",
      "execution_count": null,
      "metadata": {
        "id": "en5yfiXNifNT"
      },
      "outputs": [],
      "source": [
        "from tensorflow.keras import layers\n",
        "def get_model(img_size, num_classes):\n",
        "    inputs = layers.Input(shape=img_size+(1,))\n",
        "    #initializer = tf.keras.initializers.LecunNormal()\n",
        "    ### [First half of the network: downsampling inputs] ###\n",
        "\n",
        "    # Entry block\n",
        "    x = layers.Conv2D(32, 3, strides=2, padding=\"same\")(inputs)\n",
        "    x = layers.BatchNormalization()(x)\n",
        "    x = layers.Activation(\"relu\")(x)\n",
        "\n",
        "    previous_block_activation = x  # Set aside residual\n",
        "\n",
        "    # Blocks 1, 2, 3 are identical apart from the feature depth.\n",
        "    for filters in [64, 128, 256]:\n",
        "        x = layers.Activation(\"relu\")(x)\n",
        "        x = layers.SeparableConv2D(filters, 3, padding=\"same\")(x)\n",
        "        x = layers.BatchNormalization()(x)\n",
        "\n",
        "        x = layers.Activation(\"relu\")(x)\n",
        "        x = layers.SeparableConv2D(filters, 3, padding=\"same\")(x)\n",
        "        x = layers.BatchNormalization()(x)\n",
        "\n",
        "        x = layers.MaxPooling2D(3, strides=2, padding=\"same\")(x)\n",
        "\n",
        "        # Project residual\n",
        "        residual = layers.Conv2D(filters, 1, strides=2, padding=\"same\")(\n",
        "            previous_block_activation\n",
        "        )\n",
        "        x = layers.add([x, residual])  # Add back residual\n",
        "        previous_block_activation = x  # Set aside next residual\n",
        "\n",
        "    ### [Second half of the network: upsampling inputs] ###\n",
        "\n",
        "    for filters in [256, 128, 64, 32]:\n",
        "        x = layers.LeakyReLU(alpha=0.01)(x)\n",
        "        x = layers.Conv2DTranspose(filters, 3, padding=\"same\")(x)\n",
        "        x = layers.BatchNormalization()(x)\n",
        "\n",
        "        x = layers.LeakyReLU(alpha=0.01)(x)\n",
        "        x = layers.Conv2DTranspose(filters, 3, padding=\"same\")(x)\n",
        "        x = layers.BatchNormalization()(x)\n",
        "        x = layers.Dropout(0.2)(x)\n",
        "\n",
        "        x = layers.UpSampling2D(2)(x)\n",
        "\n",
        "        # Project residual\n",
        "        residual = layers.UpSampling2D(2)(previous_block_activation)\n",
        "        residual = layers.Conv2D(filters, 1, padding=\"same\")(residual)\n",
        "        x = layers.add([x, residual])  # Add back residual\n",
        "        previous_block_activation = x  # Set aside next residual\n",
        "\n",
        "    # Add a per-pixel classification layer\n",
        "    outputs = layers.Conv2D(num_classes, 3, activation=\"softmax\", padding=\"same\")(x)\n",
        "\n",
        "    # Define the model\n",
        "    model = tf.keras.Model(inputs, outputs)\n",
        "    return model"
      ]
    },
    {
      "cell_type": "code",
      "execution_count": null,
      "metadata": {
        "id": "GOPgog80iuMb"
      },
      "outputs": [],
      "source": [
        "model = get_model((128,128), 1)"
      ]
    },
    {
      "cell_type": "code",
      "execution_count": null,
      "metadata": {
        "id": "CWy2BOdojOly",
        "colab": {
          "base_uri": "https://localhost:8080/"
        },
        "outputId": "d8684516-5f3a-45d8-faf3-05990473a053"
      },
      "outputs": [
        {
          "output_type": "stream",
          "name": "stdout",
          "text": [
            "Model: \"model_4\"\n",
            "__________________________________________________________________________________________________\n",
            " Layer (type)                   Output Shape         Param #     Connected to                     \n",
            "==================================================================================================\n",
            " input_5 (InputLayer)           [(None, 128, 128, 1  0           []                               \n",
            "                                )]                                                                \n",
            "                                                                                                  \n",
            " conv2d_36 (Conv2D)             (None, 64, 64, 32)   320         ['input_5[0][0]']                \n",
            "                                                                                                  \n",
            " batch_normalization_60 (BatchN  (None, 64, 64, 32)  128         ['conv2d_36[0][0]']              \n",
            " ormalization)                                                                                    \n",
            "                                                                                                  \n",
            " activation_44 (Activation)     (None, 64, 64, 32)   0           ['batch_normalization_60[0][0]'] \n",
            "                                                                                                  \n",
            " activation_45 (Activation)     (None, 64, 64, 32)   0           ['activation_44[0][0]']          \n",
            "                                                                                                  \n",
            " separable_conv2d_24 (Separable  (None, 64, 64, 64)  2400        ['activation_45[0][0]']          \n",
            " Conv2D)                                                                                          \n",
            "                                                                                                  \n",
            " batch_normalization_61 (BatchN  (None, 64, 64, 64)  256         ['separable_conv2d_24[0][0]']    \n",
            " ormalization)                                                                                    \n",
            "                                                                                                  \n",
            " activation_46 (Activation)     (None, 64, 64, 64)   0           ['batch_normalization_61[0][0]'] \n",
            "                                                                                                  \n",
            " separable_conv2d_25 (Separable  (None, 64, 64, 64)  4736        ['activation_46[0][0]']          \n",
            " Conv2D)                                                                                          \n",
            "                                                                                                  \n",
            " batch_normalization_62 (BatchN  (None, 64, 64, 64)  256         ['separable_conv2d_25[0][0]']    \n",
            " ormalization)                                                                                    \n",
            "                                                                                                  \n",
            " max_pooling2d_12 (MaxPooling2D  (None, 32, 32, 64)  0           ['batch_normalization_62[0][0]'] \n",
            " )                                                                                                \n",
            "                                                                                                  \n",
            " conv2d_37 (Conv2D)             (None, 32, 32, 64)   2112        ['activation_44[0][0]']          \n",
            "                                                                                                  \n",
            " add_28 (Add)                   (None, 32, 32, 64)   0           ['max_pooling2d_12[0][0]',       \n",
            "                                                                  'conv2d_37[0][0]']              \n",
            "                                                                                                  \n",
            " activation_47 (Activation)     (None, 32, 32, 64)   0           ['add_28[0][0]']                 \n",
            "                                                                                                  \n",
            " separable_conv2d_26 (Separable  (None, 32, 32, 128)  8896       ['activation_47[0][0]']          \n",
            " Conv2D)                                                                                          \n",
            "                                                                                                  \n",
            " batch_normalization_63 (BatchN  (None, 32, 32, 128)  512        ['separable_conv2d_26[0][0]']    \n",
            " ormalization)                                                                                    \n",
            "                                                                                                  \n",
            " activation_48 (Activation)     (None, 32, 32, 128)  0           ['batch_normalization_63[0][0]'] \n",
            "                                                                                                  \n",
            " separable_conv2d_27 (Separable  (None, 32, 32, 128)  17664      ['activation_48[0][0]']          \n",
            " Conv2D)                                                                                          \n",
            "                                                                                                  \n",
            " batch_normalization_64 (BatchN  (None, 32, 32, 128)  512        ['separable_conv2d_27[0][0]']    \n",
            " ormalization)                                                                                    \n",
            "                                                                                                  \n",
            " max_pooling2d_13 (MaxPooling2D  (None, 16, 16, 128)  0          ['batch_normalization_64[0][0]'] \n",
            " )                                                                                                \n",
            "                                                                                                  \n",
            " conv2d_38 (Conv2D)             (None, 16, 16, 128)  8320        ['add_28[0][0]']                 \n",
            "                                                                                                  \n",
            " add_29 (Add)                   (None, 16, 16, 128)  0           ['max_pooling2d_13[0][0]',       \n",
            "                                                                  'conv2d_38[0][0]']              \n",
            "                                                                                                  \n",
            " activation_49 (Activation)     (None, 16, 16, 128)  0           ['add_29[0][0]']                 \n",
            "                                                                                                  \n",
            " separable_conv2d_28 (Separable  (None, 16, 16, 256)  34176      ['activation_49[0][0]']          \n",
            " Conv2D)                                                                                          \n",
            "                                                                                                  \n",
            " batch_normalization_65 (BatchN  (None, 16, 16, 256)  1024       ['separable_conv2d_28[0][0]']    \n",
            " ormalization)                                                                                    \n",
            "                                                                                                  \n",
            " activation_50 (Activation)     (None, 16, 16, 256)  0           ['batch_normalization_65[0][0]'] \n",
            "                                                                                                  \n",
            " separable_conv2d_29 (Separable  (None, 16, 16, 256)  68096      ['activation_50[0][0]']          \n",
            " Conv2D)                                                                                          \n",
            "                                                                                                  \n",
            " batch_normalization_66 (BatchN  (None, 16, 16, 256)  1024       ['separable_conv2d_29[0][0]']    \n",
            " ormalization)                                                                                    \n",
            "                                                                                                  \n",
            " max_pooling2d_14 (MaxPooling2D  (None, 8, 8, 256)   0           ['batch_normalization_66[0][0]'] \n",
            " )                                                                                                \n",
            "                                                                                                  \n",
            " conv2d_39 (Conv2D)             (None, 8, 8, 256)    33024       ['add_29[0][0]']                 \n",
            "                                                                                                  \n",
            " add_30 (Add)                   (None, 8, 8, 256)    0           ['max_pooling2d_14[0][0]',       \n",
            "                                                                  'conv2d_39[0][0]']              \n",
            "                                                                                                  \n",
            " leaky_re_lu_16 (LeakyReLU)     (None, 8, 8, 256)    0           ['add_30[0][0]']                 \n",
            "                                                                                                  \n",
            " conv2d_transpose_32 (Conv2DTra  (None, 8, 8, 256)   590080      ['leaky_re_lu_16[0][0]']         \n",
            " nspose)                                                                                          \n",
            "                                                                                                  \n",
            " batch_normalization_67 (BatchN  (None, 8, 8, 256)   1024        ['conv2d_transpose_32[0][0]']    \n",
            " ormalization)                                                                                    \n",
            "                                                                                                  \n",
            " leaky_re_lu_17 (LeakyReLU)     (None, 8, 8, 256)    0           ['batch_normalization_67[0][0]'] \n",
            "                                                                                                  \n",
            " conv2d_transpose_33 (Conv2DTra  (None, 8, 8, 256)   590080      ['leaky_re_lu_17[0][0]']         \n",
            " nspose)                                                                                          \n",
            "                                                                                                  \n",
            " batch_normalization_68 (BatchN  (None, 8, 8, 256)   1024        ['conv2d_transpose_33[0][0]']    \n",
            " ormalization)                                                                                    \n",
            "                                                                                                  \n",
            " dropout_12 (Dropout)           (None, 8, 8, 256)    0           ['batch_normalization_68[0][0]'] \n",
            "                                                                                                  \n",
            " up_sampling2d_33 (UpSampling2D  (None, 16, 16, 256)  0          ['add_30[0][0]']                 \n",
            " )                                                                                                \n",
            "                                                                                                  \n",
            " up_sampling2d_32 (UpSampling2D  (None, 16, 16, 256)  0          ['dropout_12[0][0]']             \n",
            " )                                                                                                \n",
            "                                                                                                  \n",
            " conv2d_40 (Conv2D)             (None, 16, 16, 256)  65792       ['up_sampling2d_33[0][0]']       \n",
            "                                                                                                  \n",
            " add_31 (Add)                   (None, 16, 16, 256)  0           ['up_sampling2d_32[0][0]',       \n",
            "                                                                  'conv2d_40[0][0]']              \n",
            "                                                                                                  \n",
            " leaky_re_lu_18 (LeakyReLU)     (None, 16, 16, 256)  0           ['add_31[0][0]']                 \n",
            "                                                                                                  \n",
            " conv2d_transpose_34 (Conv2DTra  (None, 16, 16, 128)  295040     ['leaky_re_lu_18[0][0]']         \n",
            " nspose)                                                                                          \n",
            "                                                                                                  \n",
            " batch_normalization_69 (BatchN  (None, 16, 16, 128)  512        ['conv2d_transpose_34[0][0]']    \n",
            " ormalization)                                                                                    \n",
            "                                                                                                  \n",
            " leaky_re_lu_19 (LeakyReLU)     (None, 16, 16, 128)  0           ['batch_normalization_69[0][0]'] \n",
            "                                                                                                  \n",
            " conv2d_transpose_35 (Conv2DTra  (None, 16, 16, 128)  147584     ['leaky_re_lu_19[0][0]']         \n",
            " nspose)                                                                                          \n",
            "                                                                                                  \n",
            " batch_normalization_70 (BatchN  (None, 16, 16, 128)  512        ['conv2d_transpose_35[0][0]']    \n",
            " ormalization)                                                                                    \n",
            "                                                                                                  \n",
            " dropout_13 (Dropout)           (None, 16, 16, 128)  0           ['batch_normalization_70[0][0]'] \n",
            "                                                                                                  \n",
            " up_sampling2d_35 (UpSampling2D  (None, 32, 32, 256)  0          ['add_31[0][0]']                 \n",
            " )                                                                                                \n",
            "                                                                                                  \n",
            " up_sampling2d_34 (UpSampling2D  (None, 32, 32, 128)  0          ['dropout_13[0][0]']             \n",
            " )                                                                                                \n",
            "                                                                                                  \n",
            " conv2d_41 (Conv2D)             (None, 32, 32, 128)  32896       ['up_sampling2d_35[0][0]']       \n",
            "                                                                                                  \n",
            " add_32 (Add)                   (None, 32, 32, 128)  0           ['up_sampling2d_34[0][0]',       \n",
            "                                                                  'conv2d_41[0][0]']              \n",
            "                                                                                                  \n",
            " leaky_re_lu_20 (LeakyReLU)     (None, 32, 32, 128)  0           ['add_32[0][0]']                 \n",
            "                                                                                                  \n",
            " conv2d_transpose_36 (Conv2DTra  (None, 32, 32, 64)  73792       ['leaky_re_lu_20[0][0]']         \n",
            " nspose)                                                                                          \n",
            "                                                                                                  \n",
            " batch_normalization_71 (BatchN  (None, 32, 32, 64)  256         ['conv2d_transpose_36[0][0]']    \n",
            " ormalization)                                                                                    \n",
            "                                                                                                  \n",
            " leaky_re_lu_21 (LeakyReLU)     (None, 32, 32, 64)   0           ['batch_normalization_71[0][0]'] \n",
            "                                                                                                  \n",
            " conv2d_transpose_37 (Conv2DTra  (None, 32, 32, 64)  36928       ['leaky_re_lu_21[0][0]']         \n",
            " nspose)                                                                                          \n",
            "                                                                                                  \n",
            " batch_normalization_72 (BatchN  (None, 32, 32, 64)  256         ['conv2d_transpose_37[0][0]']    \n",
            " ormalization)                                                                                    \n",
            "                                                                                                  \n",
            " dropout_14 (Dropout)           (None, 32, 32, 64)   0           ['batch_normalization_72[0][0]'] \n",
            "                                                                                                  \n",
            " up_sampling2d_37 (UpSampling2D  (None, 64, 64, 128)  0          ['add_32[0][0]']                 \n",
            " )                                                                                                \n",
            "                                                                                                  \n",
            " up_sampling2d_36 (UpSampling2D  (None, 64, 64, 64)  0           ['dropout_14[0][0]']             \n",
            " )                                                                                                \n",
            "                                                                                                  \n",
            " conv2d_42 (Conv2D)             (None, 64, 64, 64)   8256        ['up_sampling2d_37[0][0]']       \n",
            "                                                                                                  \n",
            " add_33 (Add)                   (None, 64, 64, 64)   0           ['up_sampling2d_36[0][0]',       \n",
            "                                                                  'conv2d_42[0][0]']              \n",
            "                                                                                                  \n",
            " leaky_re_lu_22 (LeakyReLU)     (None, 64, 64, 64)   0           ['add_33[0][0]']                 \n",
            "                                                                                                  \n",
            " conv2d_transpose_38 (Conv2DTra  (None, 64, 64, 32)  18464       ['leaky_re_lu_22[0][0]']         \n",
            " nspose)                                                                                          \n",
            "                                                                                                  \n",
            " batch_normalization_73 (BatchN  (None, 64, 64, 32)  128         ['conv2d_transpose_38[0][0]']    \n",
            " ormalization)                                                                                    \n",
            "                                                                                                  \n",
            " leaky_re_lu_23 (LeakyReLU)     (None, 64, 64, 32)   0           ['batch_normalization_73[0][0]'] \n",
            "                                                                                                  \n",
            " conv2d_transpose_39 (Conv2DTra  (None, 64, 64, 32)  9248        ['leaky_re_lu_23[0][0]']         \n",
            " nspose)                                                                                          \n",
            "                                                                                                  \n",
            " batch_normalization_74 (BatchN  (None, 64, 64, 32)  128         ['conv2d_transpose_39[0][0]']    \n",
            " ormalization)                                                                                    \n",
            "                                                                                                  \n",
            " dropout_15 (Dropout)           (None, 64, 64, 32)   0           ['batch_normalization_74[0][0]'] \n",
            "                                                                                                  \n",
            " up_sampling2d_39 (UpSampling2D  (None, 128, 128, 64  0          ['add_33[0][0]']                 \n",
            " )                              )                                                                 \n",
            "                                                                                                  \n",
            " up_sampling2d_38 (UpSampling2D  (None, 128, 128, 32  0          ['dropout_15[0][0]']             \n",
            " )                              )                                                                 \n",
            "                                                                                                  \n",
            " conv2d_43 (Conv2D)             (None, 128, 128, 32  2080        ['up_sampling2d_39[0][0]']       \n",
            "                                )                                                                 \n",
            "                                                                                                  \n",
            " add_34 (Add)                   (None, 128, 128, 32  0           ['up_sampling2d_38[0][0]',       \n",
            "                                )                                 'conv2d_43[0][0]']              \n",
            "                                                                                                  \n",
            " conv2d_44 (Conv2D)             (None, 128, 128, 1)  289         ['add_34[0][0]']                 \n",
            "                                                                                                  \n",
            "==================================================================================================\n",
            "Total params: 2,057,825\n",
            "Trainable params: 2,054,049\n",
            "Non-trainable params: 3,776\n",
            "__________________________________________________________________________________________________\n"
          ]
        }
      ],
      "source": [
        "model.summary()"
      ]
    },
    {
      "cell_type": "code",
      "execution_count": null,
      "metadata": {
        "id": "nQLSl6wPmgQ1",
        "colab": {
          "base_uri": "https://localhost:8080/"
        },
        "outputId": "2904e0c5-fb7c-4631-ee07-3bc511713cd3"
      },
      "outputs": [
        {
          "output_type": "stream",
          "name": "stdout",
          "text": [
            "Epoch 1/5\n"
          ]
        },
        {
          "output_type": "stream",
          "name": "stderr",
          "text": [
            "WARNING:tensorflow:Model was constructed with shape (None, 128, 128, 1) for input KerasTensor(type_spec=TensorSpec(shape=(None, 128, 128, 1), dtype=tf.float32, name='input_5'), name='input_5', description=\"created by layer 'input_5'\"), but it was called on an input with incompatible shape (128, 128, 1, 1).\n",
            "WARNING:tensorflow:Model was constructed with shape (None, 128, 128, 1) for input KerasTensor(type_spec=TensorSpec(shape=(None, 128, 128, 1), dtype=tf.float32, name='input_5'), name='input_5', description=\"created by layer 'input_5'\"), but it was called on an input with incompatible shape (128, 128, 1, 1).\n"
          ]
        },
        {
          "output_type": "stream",
          "name": "stdout",
          "text": [
            "3136/3136 [==============================] - ETA: 0s - loss: 10.1636 - jaccard_distance: 0.8984"
          ]
        },
        {
          "output_type": "stream",
          "name": "stderr",
          "text": [
            "WARNING:tensorflow:Model was constructed with shape (None, 128, 128, 1) for input KerasTensor(type_spec=TensorSpec(shape=(None, 128, 128, 1), dtype=tf.float32, name='input_5'), name='input_5', description=\"created by layer 'input_5'\"), but it was called on an input with incompatible shape (128, 128, 1, 1).\n"
          ]
        },
        {
          "output_type": "stream",
          "name": "stdout",
          "text": [
            "\b\b\b\b\b\b\b\b\b\b\b\b\b\b\b\b\b\b\b\b\b\b\b\b\b\b\b\b\b\b\b\b\b\b\b\b\b\b\b\b\b\b\b\b\b\b\b\b\b\b\b\b\b\b\b\b\b\b\b\b\b\b\b\b\b\b\b\b\b\b\b\b\b\b\b\b\b\b\b\b\b\b\b\b\b\b\b\b\b\b\b\b\b\b\b\r3136/3136 [==============================] - 145s 45ms/step - loss: 10.1636 - jaccard_distance: 0.8984 - val_loss: 10.2165 - val_jaccard_distance: 0.8978\n",
            "Epoch 2/5\n",
            "3136/3136 [==============================] - 141s 45ms/step - loss: 10.1636 - jaccard_distance: 0.8984 - val_loss: 10.2165 - val_jaccard_distance: 0.8978\n",
            "Epoch 3/5\n",
            "3136/3136 [==============================] - 141s 45ms/step - loss: 10.1636 - jaccard_distance: 0.8984 - val_loss: 10.2165 - val_jaccard_distance: 0.8978\n",
            "Epoch 4/5\n",
            "3136/3136 [==============================] - 141s 45ms/step - loss: 10.1636 - jaccard_distance: 0.8984 - val_loss: 10.2165 - val_jaccard_distance: 0.8978\n",
            "Epoch 5/5\n",
            "3136/3136 [==============================] - 140s 45ms/step - loss: 10.1636 - jaccard_distance: 0.8984 - val_loss: 10.2165 - val_jaccard_distance: 0.8978\n"
          ]
        }
      ],
      "source": [
        "EPOCHS = 5\n",
        "BUFFER_SIZE = 500\n",
        "BATCH_SIZE = 32\n",
        "#model.compile(optimizer=\"adam\", loss=\"sparse_categorical_crossentropy\", metrics=['accuracy', f1_m, recall_m, precision_m])\n",
        "opt = tf.keras.optimizers.Adam(learning_rate = 0.3)\n",
        "model.compile(optimizer=opt, loss=jaccard_loss, metrics=[jaccard_distance])\n",
        "train_dataset.batch(BATCH_SIZE)\n",
        "train_ds = train_dataset.cache().shuffle(BUFFER_SIZE)\n",
        "model_history = model.fit(train_ds, epochs=EPOCHS, validation_data=validation_dataset, batch_size=32)\n",
        "\n",
        "\n"
      ]
    },
    {
      "cell_type": "code",
      "execution_count": null,
      "metadata": {
        "id": "c70WUqw9tAr0"
      },
      "outputs": [],
      "source": [
        "model.save('/content/drive/MyDrive/NI_assigment/data/simple_unet')"
      ]
    },
    {
      "cell_type": "code",
      "source": [
        "model.evaluate"
      ],
      "metadata": {
        "id": "zweKS1DQrOMJ"
      },
      "execution_count": null,
      "outputs": []
    },
    {
      "cell_type": "code",
      "source": [
        "pred_model = model.predict(test_dataset, verbose=1, batch_size=64)"
      ],
      "metadata": {
        "colab": {
          "base_uri": "https://localhost:8080/"
        },
        "id": "ACa22k9DrjkE",
        "outputId": "59eab1dd-8f49-4458-a095-a3210bd93830"
      },
      "execution_count": null,
      "outputs": [
        {
          "output_type": "stream",
          "name": "stderr",
          "text": [
            "WARNING:tensorflow:Model was constructed with shape (None, 128, 128, 1) for input KerasTensor(type_spec=TensorSpec(shape=(None, 128, 128, 1), dtype=tf.float32, name='input_5'), name='input_5', description=\"created by layer 'input_5'\"), but it was called on an input with incompatible shape (128, 128, 1, 1).\n"
          ]
        },
        {
          "output_type": "stream",
          "name": "stdout",
          "text": [
            "439/439 [==============================] - 7s 14ms/step\n"
          ]
        }
      ]
    },
    {
      "cell_type": "code",
      "source": [
        "pred_model[3].shape"
      ],
      "metadata": {
        "colab": {
          "base_uri": "https://localhost:8080/"
        },
        "id": "IxrlQrJgPwCV",
        "outputId": "16cb552a-03e6-4886-af3c-3626a0650183"
      },
      "execution_count": null,
      "outputs": [
        {
          "output_type": "execute_result",
          "data": {
            "text/plain": [
              "(128, 16, 1)"
            ]
          },
          "metadata": {},
          "execution_count": 44
        }
      ]
    },
    {
      "cell_type": "code",
      "source": [
        "plt.imshow(tf.argmax(pred_model[0], axis=-1).numpy())"
      ],
      "metadata": {
        "colab": {
          "base_uri": "https://localhost:8080/",
          "height": 285
        },
        "id": "cS9QY2dJ0DdK",
        "outputId": "34bf8fd4-7538-4668-f2b4-1faeda3163b4"
      },
      "execution_count": null,
      "outputs": [
        {
          "output_type": "execute_result",
          "data": {
            "text/plain": [
              "<matplotlib.image.AxesImage at 0x7f8efad79880>"
            ]
          },
          "metadata": {},
          "execution_count": 36
        },
        {
          "output_type": "display_data",
          "data": {
            "text/plain": [
              "<Figure size 432x288 with 1 Axes>"
            ],
            "image/png": "[encoded data removed]"
          },
          "metadata": {
            "needs_background": "light"
          }
        }
      ]
    },
    {
      "cell_type": "code",
      "source": [
        "pred_model_class = tf.argmax(pred_model, axis=-1).numpy()"
      ],
      "metadata": {
        "id": "8NVmr8bW0hpB"
      },
      "execution_count": null,
      "outputs": []
    },
    {
      "cell_type": "code",
      "source": [
        "num_samples_to_show = 3\n",
        "test_samples_to_show = list(test_dataset.take(num_samples_to_show))"
      ],
      "metadata": {
        "id": "IDtpXT9OPO0D"
      },
      "execution_count": null,
      "outputs": []
    },
    {
      "cell_type": "code",
      "source": [
        "\n",
        "def show_predictions(y_pred):\n",
        "  fig, axes = plt.subplots(num_samples_to_show, 3, figsize=(36, 12))\n",
        "  if num_samples_to_show == 1:\n",
        "    i = 0\n",
        "    axes[0].imshow(test_samples_to_show[i][0][0, :, :, :] / 255., aspect=\"auto\")\n",
        "    axes[0].set_axis_off()\n",
        "    axes[0].set_title('Original image')\n",
        "\n",
        "    axes[1].imshow(test_samples_to_show[i][1][0, :, :], aspect=\"auto\")\n",
        "    axes[1].set_axis_off()\n",
        "    axes[1].set_title('Ground truth')\n",
        "\n",
        "    axes[2].imshow(y_pred[i, :, :], aspect=\"auto\")\n",
        "    axes[2].set_axis_off()\n",
        "    axes[2].set_title('Predicted mask')\n",
        "    return 1\n",
        "\n",
        "  for i in range(num_samples_to_show):\n",
        "    axes[i, 0].imshow(test_samples_to_show[i][0][0, :, :, :] / 255., aspect=\"auto\")\n",
        "    axes[i, 0].set_axis_off()\n",
        "    axes[i, 0].set_title('Original image')\n",
        "\n",
        "    axes[i, 1].imshow(test_samples_to_show[i][1][0, :, :], aspect=\"auto\")\n",
        "    axes[i, 1].set_axis_off()\n",
        "    axes[i, 1].set_title('Ground truth')\n",
        "\n",
        "    axes[i, 2].imshow(y_pred[i, :, :], aspect=\"auto\")\n",
        "    axes[i, 2].set_axis_off()\n",
        "    axes[i, 2].set_title('Predicted mask')"
      ],
      "metadata": {
        "id": "dquv_A1U0iZc"
      },
      "execution_count": null,
      "outputs": []
    },
    {
      "cell_type": "code",
      "source": [
        "show_predictions(pred_model_class)"
      ],
      "metadata": {
        "colab": {
          "base_uri": "https://localhost:8080/",
          "height": 683
        },
        "id": "4uEdfQ_x0pBm",
        "outputId": "796577f8-c46c-472c-d3a8-a10deb0a0ed5"
      },
      "execution_count": null,
      "outputs": [
        {
          "output_type": "error",
          "ename": "InvalidArgumentError",
          "evalue": "ignored",
          "traceback": [
            "\u001b[0;31m---------------------------------------------------------------------------\u001b[0m",
            "\u001b[0;31mInvalidArgumentError\u001b[0m                      Traceback (most recent call last)",
            "\u001b[0;32m<ipython-input-42-2f32733ffe37>\u001b[0m in \u001b[0;36m<module>\u001b[0;34m\u001b[0m\n\u001b[0;32m----> 1\u001b[0;31m \u001b[0mshow_predictions\u001b[0m\u001b[0;34m(\u001b[0m\u001b[0mpred_model_class\u001b[0m\u001b[0;34m)\u001b[0m\u001b[0;34m\u001b[0m\u001b[0;34m\u001b[0m\u001b[0m\n\u001b[0m",
            "\u001b[0;32m<ipython-input-41-523736513f46>\u001b[0m in \u001b[0;36mshow_predictions\u001b[0;34m(y_pred)\u001b[0m\n\u001b[1;32m     17\u001b[0m \u001b[0;34m\u001b[0m\u001b[0m\n\u001b[1;32m     18\u001b[0m   \u001b[0;32mfor\u001b[0m \u001b[0mi\u001b[0m \u001b[0;32min\u001b[0m \u001b[0mrange\u001b[0m\u001b[0;34m(\u001b[0m\u001b[0mnum_samples_to_show\u001b[0m\u001b[0;34m)\u001b[0m\u001b[0;34m:\u001b[0m\u001b[0;34m\u001b[0m\u001b[0;34m\u001b[0m\u001b[0m\n\u001b[0;32m---> 19\u001b[0;31m     \u001b[0maxes\u001b[0m\u001b[0;34m[\u001b[0m\u001b[0mi\u001b[0m\u001b[0;34m,\u001b[0m \u001b[0;36m0\u001b[0m\u001b[0;34m]\u001b[0m\u001b[0;34m.\u001b[0m\u001b[0mimshow\u001b[0m\u001b[0;34m(\u001b[0m\u001b[0mtest_samples_to_show\u001b[0m\u001b[0;34m[\u001b[0m\u001b[0mi\u001b[0m\u001b[0;34m]\u001b[0m\u001b[0;34m[\u001b[0m\u001b[0;36m0\u001b[0m\u001b[0;34m]\u001b[0m\u001b[0;34m[\u001b[0m\u001b[0;36m0\u001b[0m\u001b[0;34m,\u001b[0m \u001b[0;34m:\u001b[0m\u001b[0;34m,\u001b[0m \u001b[0;34m:\u001b[0m\u001b[0;34m,\u001b[0m \u001b[0;34m:\u001b[0m\u001b[0;34m]\u001b[0m \u001b[0;34m/\u001b[0m \u001b[0;36m255.\u001b[0m\u001b[0;34m,\u001b[0m \u001b[0maspect\u001b[0m\u001b[0;34m=\u001b[0m\u001b[0;34m\"auto\"\u001b[0m\u001b[0;34m)\u001b[0m\u001b[0;34m\u001b[0m\u001b[0;34m\u001b[0m\u001b[0m\n\u001b[0m\u001b[1;32m     20\u001b[0m     \u001b[0maxes\u001b[0m\u001b[0;34m[\u001b[0m\u001b[0mi\u001b[0m\u001b[0;34m,\u001b[0m \u001b[0;36m0\u001b[0m\u001b[0;34m]\u001b[0m\u001b[0;34m.\u001b[0m\u001b[0mset_axis_off\u001b[0m\u001b[0;34m(\u001b[0m\u001b[0;34m)\u001b[0m\u001b[0;34m\u001b[0m\u001b[0;34m\u001b[0m\u001b[0m\n\u001b[1;32m     21\u001b[0m     \u001b[0maxes\u001b[0m\u001b[0;34m[\u001b[0m\u001b[0mi\u001b[0m\u001b[0;34m,\u001b[0m \u001b[0;36m0\u001b[0m\u001b[0;34m]\u001b[0m\u001b[0;34m.\u001b[0m\u001b[0mset_title\u001b[0m\u001b[0;34m(\u001b[0m\u001b[0;34m'Original image'\u001b[0m\u001b[0;34m)\u001b[0m\u001b[0;34m\u001b[0m\u001b[0;34m\u001b[0m\u001b[0m\n",
            "\u001b[0;32m/usr/local/lib/python3.8/dist-packages/tensorflow/python/util/traceback_utils.py\u001b[0m in \u001b[0;36merror_handler\u001b[0;34m(*args, **kwargs)\u001b[0m\n\u001b[1;32m    151\u001b[0m     \u001b[0;32mexcept\u001b[0m \u001b[0mException\u001b[0m \u001b[0;32mas\u001b[0m \u001b[0me\u001b[0m\u001b[0;34m:\u001b[0m\u001b[0;34m\u001b[0m\u001b[0;34m\u001b[0m\u001b[0m\n\u001b[1;32m    152\u001b[0m       \u001b[0mfiltered_tb\u001b[0m \u001b[0;34m=\u001b[0m \u001b[0m_process_traceback_frames\u001b[0m\u001b[0;34m(\u001b[0m\u001b[0me\u001b[0m\u001b[0;34m.\u001b[0m\u001b[0m__traceback__\u001b[0m\u001b[0;34m)\u001b[0m\u001b[0;34m\u001b[0m\u001b[0;34m\u001b[0m\u001b[0m\n\u001b[0;32m--> 153\u001b[0;31m       \u001b[0;32mraise\u001b[0m \u001b[0me\u001b[0m\u001b[0;34m.\u001b[0m\u001b[0mwith_traceback\u001b[0m\u001b[0;34m(\u001b[0m\u001b[0mfiltered_tb\u001b[0m\u001b[0;34m)\u001b[0m \u001b[0;32mfrom\u001b[0m \u001b[0;32mNone\u001b[0m\u001b[0;34m\u001b[0m\u001b[0;34m\u001b[0m\u001b[0m\n\u001b[0m\u001b[1;32m    154\u001b[0m     \u001b[0;32mfinally\u001b[0m\u001b[0;34m:\u001b[0m\u001b[0;34m\u001b[0m\u001b[0;34m\u001b[0m\u001b[0m\n\u001b[1;32m    155\u001b[0m       \u001b[0;32mdel\u001b[0m \u001b[0mfiltered_tb\u001b[0m\u001b[0;34m\u001b[0m\u001b[0;34m\u001b[0m\u001b[0m\n",
            "\u001b[0;32m/usr/local/lib/python3.8/dist-packages/tensorflow/python/framework/ops.py\u001b[0m in \u001b[0;36mraise_from_not_ok_status\u001b[0;34m(e, name)\u001b[0m\n\u001b[1;32m   7162\u001b[0m \u001b[0;32mdef\u001b[0m \u001b[0mraise_from_not_ok_status\u001b[0m\u001b[0;34m(\u001b[0m\u001b[0me\u001b[0m\u001b[0;34m,\u001b[0m \u001b[0mname\u001b[0m\u001b[0;34m)\u001b[0m\u001b[0;34m:\u001b[0m\u001b[0;34m\u001b[0m\u001b[0;34m\u001b[0m\u001b[0m\n\u001b[1;32m   7163\u001b[0m   \u001b[0me\u001b[0m\u001b[0;34m.\u001b[0m\u001b[0mmessage\u001b[0m \u001b[0;34m+=\u001b[0m \u001b[0;34m(\u001b[0m\u001b[0;34m\" name: \"\u001b[0m \u001b[0;34m+\u001b[0m \u001b[0mname\u001b[0m \u001b[0;32mif\u001b[0m \u001b[0mname\u001b[0m \u001b[0;32mis\u001b[0m \u001b[0;32mnot\u001b[0m \u001b[0;32mNone\u001b[0m \u001b[0;32melse\u001b[0m \u001b[0;34m\"\"\u001b[0m\u001b[0;34m)\u001b[0m\u001b[0;34m\u001b[0m\u001b[0;34m\u001b[0m\u001b[0m\n\u001b[0;32m-> 7164\u001b[0;31m   \u001b[0;32mraise\u001b[0m \u001b[0mcore\u001b[0m\u001b[0;34m.\u001b[0m\u001b[0m_status_to_exception\u001b[0m\u001b[0;34m(\u001b[0m\u001b[0me\u001b[0m\u001b[0;34m)\u001b[0m \u001b[0;32mfrom\u001b[0m \u001b[0;32mNone\u001b[0m  \u001b[0;31m# pylint: disable=protected-access\u001b[0m\u001b[0;34m\u001b[0m\u001b[0;34m\u001b[0m\u001b[0m\n\u001b[0m\u001b[1;32m   7165\u001b[0m \u001b[0;34m\u001b[0m\u001b[0m\n\u001b[1;32m   7166\u001b[0m \u001b[0;34m\u001b[0m\u001b[0m\n",
            "\u001b[0;31mInvalidArgumentError\u001b[0m: Index out of range using input dim 2; input has only 2 dims [Op:StridedSlice] name: strided_slice/"
          ]
        },
        {
          "output_type": "display_data",
          "data": {
            "text/plain": [
              "<Figure size 2592x864 with 9 Axes>"
            ],
            "image/png": "[encoded data removed]"
          },
          "metadata": {
            "needs_background": "light"
          }
        }
      ]
    }
  ],
  "metadata": {
    "colab": {
      "collapsed_sections": [
        "7sMYMpMpKp-Y"
      ],
      "provenance": [],
      "authorship_tag": "ABX9TyNHZCbcry3X0QvNHE/GI+n3",
      "include_colab_link": true
    },
    "kernelspec": {
      "display_name": "Python 3",
      "name": "python3"
    },
    "language_info": {
      "name": "python"
    },
    "accelerator": "GPU",
    "gpuClass": "standard"
  },
  "nbformat": 4,
  "nbformat_minor": 0
}